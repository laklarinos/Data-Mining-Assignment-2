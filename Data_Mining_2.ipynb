{
  "nbformat": 4,
  "nbformat_minor": 0,
  "metadata": {
    "colab": {
      "provenance": []
    },
    "kernelspec": {
      "name": "python3",
      "display_name": "Python 3"
    },
    "language_info": {
      "name": "python"
    }
  },
  "cells": [
    {
      "cell_type": "code",
      "source": [
        "import numpy as np\n",
        "import pandas as pd\n",
        "import seaborn as sns\n",
        "import matplotlib.pyplot as plt\n",
        "import nltk\n",
        "%matplotlib inline\n",
        "import ast"
      ],
      "metadata": {
        "id": "zR4nW6vobH0D"
      },
      "execution_count": 64,
      "outputs": []
    },
    {
      "cell_type": "code",
      "source": [
        "from google.colab import drive\n",
        "drive.mount('/content/gdrive/', force_remount=True)"
      ],
      "metadata": {
        "id": "8y0LXh2nboCi",
        "colab": {
          "base_uri": "https://localhost:8080/"
        },
        "outputId": "ef70ddc8-219f-482d-97e3-74cf7b79154b"
      },
      "execution_count": 65,
      "outputs": [
        {
          "output_type": "stream",
          "name": "stdout",
          "text": [
            "Mounted at /content/gdrive/\n"
          ]
        }
      ]
    },
    {
      "cell_type": "code",
      "source": [
        "#replace it with your path\n",
        "DIR_PATH = \"/content/gdrive/MyDrive/Data_Mining_2023/books_1_Best_Books_Ever.csv\""
      ],
      "metadata": {
        "id": "xuEmtEUuZ2Aq"
      },
      "execution_count": 66,
      "outputs": []
    },
    {
      "cell_type": "code",
      "source": [
        "df = pd.read_csv(DIR_PATH)"
      ],
      "metadata": {
        "id": "HinETb9UEiC0"
      },
      "execution_count": 67,
      "outputs": []
    },
    {
      "cell_type": "code",
      "source": [
        "df.shape"
      ],
      "metadata": {
        "id": "JwOMQCwQJA-W",
        "colab": {
          "base_uri": "https://localhost:8080/"
        },
        "outputId": "a7fa5e48-7492-4a1c-d747-47eda78ab491"
      },
      "execution_count": 68,
      "outputs": [
        {
          "output_type": "execute_result",
          "data": {
            "text/plain": [
              "(52478, 25)"
            ]
          },
          "metadata": {},
          "execution_count": 68
        }
      ]
    },
    {
      "cell_type": "code",
      "source": [
        "df.columns"
      ],
      "metadata": {
        "colab": {
          "base_uri": "https://localhost:8080/"
        },
        "id": "Kq4LnYVd-Fis",
        "outputId": "3aa51eaf-e09a-44c0-abe3-d98ad56d7fd1"
      },
      "execution_count": 69,
      "outputs": [
        {
          "output_type": "execute_result",
          "data": {
            "text/plain": [
              "Index(['bookId', 'title', 'series', 'author', 'rating', 'description',\n",
              "       'language', 'isbn', 'genres', 'characters', 'bookFormat', 'edition',\n",
              "       'pages', 'publisher', 'publishDate', 'firstPublishDate', 'awards',\n",
              "       'numRatings', 'ratingsByStars', 'likedPercent', 'setting', 'coverImg',\n",
              "       'bbeScore', 'bbeVotes', 'price'],\n",
              "      dtype='object')"
            ]
          },
          "metadata": {},
          "execution_count": 69
        }
      ]
    },
    {
      "cell_type": "code",
      "source": [
        "df['title'].head()"
      ],
      "metadata": {
        "colab": {
          "base_uri": "https://localhost:8080/"
        },
        "id": "fPtS-LcFndFu",
        "outputId": "f0421664-8ed8-443b-adfa-f99634f0c1a4"
      },
      "execution_count": 70,
      "outputs": [
        {
          "output_type": "execute_result",
          "data": {
            "text/plain": [
              "0                             The Hunger Games\n",
              "1    Harry Potter and the Order of the Phoenix\n",
              "2                        To Kill a Mockingbird\n",
              "3                          Pride and Prejudice\n",
              "4                                     Twilight\n",
              "Name: title, dtype: object"
            ]
          },
          "metadata": {},
          "execution_count": 70
        }
      ]
    },
    {
      "cell_type": "markdown",
      "source": [
        "##Pre processing (10%)"
      ],
      "metadata": {
        "id": "sDCCUO_MLgkw"
      }
    },
    {
      "cell_type": "code",
      "source": [
        "# Determine length of list\n",
        "input_string = df['ratingsByStars'].iat[0]\n",
        "input_numbers = ast.literal_eval(input_string)\n",
        "length = len(input_numbers) #length of list  "
      ],
      "metadata": {
        "id": "Ot_uIJ5oMuzc"
      },
      "execution_count": 71,
      "outputs": []
    },
    {
      "cell_type": "code",
      "source": [
        "# Create new dataframe columns based on the length of list\n",
        "new_col_names = [];\n",
        "for number in range(1,length+1):\n",
        "  new_col_names.append(\"ratingsByStars\" + str(number))\n",
        "new_col_names"
      ],
      "metadata": {
        "colab": {
          "base_uri": "https://localhost:8080/"
        },
        "id": "p18TXAQ7mgu_",
        "outputId": "c4e2b378-0c93-429e-ee83-ab98dc632f39"
      },
      "execution_count": 72,
      "outputs": [
        {
          "output_type": "execute_result",
          "data": {
            "text/plain": [
              "['ratingsByStars1',\n",
              " 'ratingsByStars2',\n",
              " 'ratingsByStars3',\n",
              " 'ratingsByStars4',\n",
              " 'ratingsByStars5']"
            ]
          },
          "metadata": {},
          "execution_count": 72
        }
      ]
    },
    {
      "cell_type": "code",
      "source": [
        "array_of_lists = [[]for _ in range(5)]"
      ],
      "metadata": {
        "id": "7gErlW_fWlcW"
      },
      "execution_count": 73,
      "outputs": []
    },
    {
      "cell_type": "code",
      "source": [
        "len(df[df['ratingsByStars'] == '[]'])"
      ],
      "metadata": {
        "colab": {
          "base_uri": "https://localhost:8080/"
        },
        "id": "BG69Vxav-eMw",
        "outputId": "57ba719e-389c-4898-ad95-3cd0661c8a10"
      },
      "execution_count": 74,
      "outputs": [
        {
          "output_type": "execute_result",
          "data": {
            "text/plain": [
              "1423"
            ]
          },
          "metadata": {},
          "execution_count": 74
        }
      ]
    },
    {
      "cell_type": "code",
      "source": [
        "# Add data to lists\n",
        "for all_ratings in df['ratingsByStars']:\n",
        "  ratings = ast.literal_eval(all_ratings)\n",
        "  if(len(ratings) == 0):\n",
        "    # if there are no ratings whatsoever\n",
        "    # just add zeros\n",
        "    # it was checked that the list of ratings are either 5 or 0\n",
        "    for number in range(0,length):\n",
        "      array_of_lists[number].append('0')\n",
        "  else: \n",
        "    stars = 0\n",
        "    for ratings_per_stars in ratings:\n",
        "      array_of_lists[stars].append(ratings_per_stars)\n",
        "      stars+=1"
      ],
      "metadata": {
        "id": "ZEEfOhd3Yhjv"
      },
      "execution_count": 75,
      "outputs": []
    },
    {
      "cell_type": "code",
      "source": [
        "# add data to new columns\n",
        "df['ratingsByStars1'] = array_of_lists[0]\n",
        "df['ratingsByStars2'] = array_of_lists[1]\n",
        "df['ratingsByStars3'] = array_of_lists[2]\n",
        "df['ratingsByStars4'] = array_of_lists[3]\n",
        "df['ratingsByStars5'] = array_of_lists[4]"
      ],
      "metadata": {
        "id": "8YjnHWdIDygr"
      },
      "execution_count": 76,
      "outputs": []
    },
    {
      "cell_type": "code",
      "source": [
        "def getFirstValue(given_str,):\n",
        "  s = ast.literal_eval(given_str)\n",
        "  if(len(s)==0):\n",
        "    return ''\n",
        "  return s[0]"
      ],
      "metadata": {
        "id": "oPA8sY85GZij"
      },
      "execution_count": 77,
      "outputs": []
    },
    {
      "cell_type": "markdown",
      "source": [
        "## Seperate genre's list adding the first value to a unique column called genreSingle "
      ],
      "metadata": {
        "id": "wLItUNitE4Jb"
      }
    },
    {
      "cell_type": "code",
      "source": [
        "df['genreSingle'] = df.apply(lambda x: getFirstValue(x['genres']) ,axis=1)"
      ],
      "metadata": {
        "id": "PBNwkr_3E392"
      },
      "execution_count": 78,
      "outputs": []
    },
    {
      "cell_type": "markdown",
      "source": [
        "## publishDate column to provide year of publish\n",
        "## MM/DD/YY"
      ],
      "metadata": {
        "id": "Wyh__ivNIFNQ"
      }
    },
    {
      "cell_type": "code",
      "source": [
        "df['publishDate'].head(20)"
      ],
      "metadata": {
        "colab": {
          "base_uri": "https://localhost:8080/"
        },
        "id": "6YV-5HR8H5Od",
        "outputId": "778c9b91-8fe5-48eb-9287-37cef3e77295"
      },
      "execution_count": 79,
      "outputs": [
        {
          "output_type": "execute_result",
          "data": {
            "text/plain": [
              "0     09/14/08\n",
              "1     09/28/04\n",
              "2     05/23/06\n",
              "3     10/10/00\n",
              "4     09/06/06\n",
              "5     03/14/06\n",
              "6     04/28/96\n",
              "7     09/16/02\n",
              "8     09/25/12\n",
              "9     04/01/99\n",
              "10    01/10/12\n",
              "11    06/23/07\n",
              "12    10/07/64\n",
              "13    10/28/02\n",
              "14    03/28/06\n",
              "15    11/22/05\n",
              "16    06/01/04\n",
              "17    12/01/00\n",
              "18    02/04/03\n",
              "19    03/03/87\n",
              "Name: publishDate, dtype: object"
            ]
          },
          "metadata": {},
          "execution_count": 79
        }
      ]
    },
    {
      "cell_type": "code",
      "source": [
        "df['publishDate'] = pd.to_datetime(df['publishDate'], format='%m/%d/%y', errors='coerce')\n",
        "df['publishDate'].dropna()"
      ],
      "metadata": {
        "colab": {
          "base_uri": "https://localhost:8080/"
        },
        "id": "5lAh1WUFbex7",
        "outputId": "39df6a0f-59f5-4b94-8823-f0d3b87a09d7"
      },
      "execution_count": 80,
      "outputs": [
        {
          "output_type": "execute_result",
          "data": {
            "text/plain": [
              "0     2008-09-14\n",
              "1     2004-09-28\n",
              "2     2006-05-23\n",
              "3     2000-10-10\n",
              "4     2006-09-06\n",
              "         ...    \n",
              "815   2005-09-22\n",
              "816   2001-02-01\n",
              "817   2006-09-01\n",
              "818   2014-10-07\n",
              "819   2010-04-27\n",
              "Name: publishDate, Length: 818, dtype: datetime64[ns]"
            ]
          },
          "metadata": {},
          "execution_count": 80
        }
      ]
    },
    {
      "cell_type": "code",
      "source": [
        "df['publishYear'] = df.apply(lambda x: str(x['publishDate'].year) ,axis=1)"
      ],
      "metadata": {
        "id": "i9H2rKmlIikD"
      },
      "execution_count": 81,
      "outputs": []
    },
    {
      "cell_type": "code",
      "source": [
        "df['publishYear'].head(5)"
      ],
      "metadata": {
        "colab": {
          "base_uri": "https://localhost:8080/"
        },
        "id": "70LFBVUMdv7_",
        "outputId": "74634541-1c94-4f0a-a396-95f6086de226"
      },
      "execution_count": 82,
      "outputs": [
        {
          "output_type": "execute_result",
          "data": {
            "text/plain": [
              "0    2008\n",
              "1    2004\n",
              "2    2006\n",
              "3    2000\n",
              "4    2006\n",
              "Name: publishYear, dtype: object"
            ]
          },
          "metadata": {},
          "execution_count": 82
        }
      ]
    },
    {
      "cell_type": "markdown",
      "source": [
        "## Questions 1-10"
      ],
      "metadata": {
        "id": "FtSRnU4KihEW"
      }
    },
    {
      "cell_type": "markdown",
      "source": [
        "### Question 1"
      ],
      "metadata": {
        "id": "rwqnZToti6k5"
      }
    },
    {
      "cell_type": "code",
      "source": [
        "df['rating'].hist()"
      ],
      "metadata": {
        "colab": {
          "base_uri": "https://localhost:8080/",
          "height": 447
        },
        "id": "wCv_Te4pd-4G",
        "outputId": "46ea11f4-a821-4be6-ef63-e10dd21b871e"
      },
      "execution_count": 83,
      "outputs": [
        {
          "output_type": "execute_result",
          "data": {
            "text/plain": [
              "<Axes: >"
            ]
          },
          "metadata": {},
          "execution_count": 83
        },
        {
          "output_type": "display_data",
          "data": {
            "text/plain": [
              "<Figure size 640x480 with 1 Axes>"
            ],
            "image/png": "[encoded data removed]"
          },
          "metadata": {}
        }
      ]
    },
    {
      "cell_type": "markdown",
      "source": [
        "### Question 2"
      ],
      "metadata": {
        "id": "EodaaSmEpryF"
      }
    },
    {
      "cell_type": "code",
      "source": [
        "df['pages'] = pd.to_numeric(df['pages'], errors='coerce')"
      ],
      "metadata": {
        "id": "P_mVxoYVjAoN"
      },
      "execution_count": 84,
      "outputs": []
    },
    {
      "cell_type": "code",
      "source": [
        "top_10_books = (df.nlargest(10, \"pages\"))"
      ],
      "metadata": {
        "id": "GDOthAArkQSf"
      },
      "execution_count": 85,
      "outputs": []
    },
    {
      "cell_type": "code",
      "source": [
        "top_10_books = top_10_books[['title', 'pages']]"
      ],
      "metadata": {
        "id": "1O8a_ogOlxTl"
      },
      "execution_count": 86,
      "outputs": []
    },
    {
      "cell_type": "code",
      "source": [
        "import matplotlib.pyplot as plt\n",
        "plt.bar(range(len(top_10_books['pages'])), top_10_books['pages'], align='center')\n",
        "plt.xticks(range(len(top_10_books['title'])), top_10_books['title'], size='small', rotation=90)\n",
        "plt.show()"
      ],
      "metadata": {
        "colab": {
          "base_uri": "https://localhost:8080/",
          "height": 707
        },
        "id": "1-NtGJoNlSE9",
        "outputId": "ddcadf02-f00e-4613-9a88-c8a014e436ba"
      },
      "execution_count": 87,
      "outputs": [
        {
          "output_type": "display_data",
          "data": {
            "text/plain": [
              "<Figure size 640x480 with 1 Axes>"
            ],
            "image/png": "[encoded data removed]"
          },
          "metadata": {}
        }
      ]
    },
    {
      "cell_type": "markdown",
      "source": [
        "### Question 3"
      ],
      "metadata": {
        "id": "Ky8K_6Qgpv5n"
      }
    },
    {
      "cell_type": "code",
      "source": [
        "temp_df = df[['ratingsByStars5', 'title']].copy()"
      ],
      "metadata": {
        "id": "A6xHJUHwpvb2"
      },
      "execution_count": 88,
      "outputs": []
    },
    {
      "cell_type": "code",
      "source": [
        "temp_df['ratingsByStars5'] = pd.to_numeric(temp_df['ratingsByStars5'], errors='coerce')"
      ],
      "metadata": {
        "id": "sQR_a6GtrWq_"
      },
      "execution_count": 89,
      "outputs": []
    },
    {
      "cell_type": "code",
      "source": [
        "top_10_books_5stars = (temp_df.nlargest(10, \"ratingsByStars5\"))"
      ],
      "metadata": {
        "id": "a789wkORrxMa"
      },
      "execution_count": 90,
      "outputs": []
    },
    {
      "cell_type": "markdown",
      "source": [
        "### Top 10 books with most 5 star ratings"
      ],
      "metadata": {
        "id": "uMyGIevzsclQ"
      }
    },
    {
      "cell_type": "code",
      "source": [
        "import matplotlib.pyplot as plt\n",
        "plt.bar(range(len(top_10_books_5stars['ratingsByStars5'])), top_10_books_5stars['ratingsByStars5'], align='center')\n",
        "plt.xticks(range(len(top_10_books['title'])), top_10_books['title'], size='small', rotation=90)\n",
        "plt.show()"
      ],
      "metadata": {
        "colab": {
          "base_uri": "https://localhost:8080/",
          "height": 707
        },
        "id": "zAe1WARmsSPj",
        "outputId": "c61a0f34-85c9-4e40-d841-befb188717d5"
      },
      "execution_count": 91,
      "outputs": [
        {
          "output_type": "display_data",
          "data": {
            "text/plain": [
              "<Figure size 640x480 with 1 Axes>"
            ],
            "image/png": "[encoded data removed]"
          },
          "metadata": {}
        }
      ]
    },
    {
      "cell_type": "markdown",
      "source": [
        "### Top books with more than 10.000 5-star ratings"
      ],
      "metadata": {
        "id": "InN8WIKFtxNW"
      }
    },
    {
      "cell_type": "code",
      "source": [
        "top_books_5stars_over100000 = top_10_books_5stars[top_10_books_5stars.ratingsByStars5 > 10000]"
      ],
      "metadata": {
        "id": "XCeUK00vshdd"
      },
      "execution_count": 92,
      "outputs": []
    },
    {
      "cell_type": "code",
      "source": [
        "import matplotlib.pyplot as plt\n",
        "plt.bar(range(len(top_books_5stars_over100000['ratingsByStars5'])), top_books_5stars_over100000['ratingsByStars5'], align='center')\n",
        "plt.xticks(range(len(top_books_5stars_over100000['title'])), top_books_5stars_over100000['title'], size='small', rotation=90)\n",
        "plt.show()"
      ],
      "metadata": {
        "colab": {
          "base_uri": "https://localhost:8080/",
          "height": 634
        },
        "id": "w6I9MOm2tSuq",
        "outputId": "6cb3f743-7f3d-4374-db6f-e447c16b4694"
      },
      "execution_count": 93,
      "outputs": [
        {
          "output_type": "display_data",
          "data": {
            "text/plain": [
              "<Figure size 640x480 with 1 Axes>"
            ],
            "image/png": "[encoded data removed]"
          },
          "metadata": {}
        }
      ]
    },
    {
      "cell_type": "markdown",
      "source": [
        "## Question 4"
      ],
      "metadata": {
        "id": "3cuxDXUVt9C-"
      }
    },
    {
      "cell_type": "code",
      "source": [
        "import nltk\n",
        "nltk.download('stopwords')\n",
        "from nltk.corpus import stopwords"
      ],
      "metadata": {
        "colab": {
          "base_uri": "https://localhost:8080/"
        },
        "id": "mKjZYpYBu-zw",
        "outputId": "c24dcffa-d881-40d4-afb4-36fa65c0bb85"
      },
      "execution_count": 94,
      "outputs": [
        {
          "output_type": "stream",
          "name": "stderr",
          "text": [
            "[nltk_data] Downloading package stopwords to /root/nltk_data...\n",
            "[nltk_data]   Package stopwords is already up-to-date!\n"
          ]
        }
      ]
    },
    {
      "cell_type": "markdown",
      "source": [
        "### Remove stopwords"
      ],
      "metadata": {
        "id": "Ihbu1H54vaPW"
      }
    },
    {
      "cell_type": "code",
      "source": [
        "stop = stopwords.words('english')\n",
        "temp_df = df[['title']].copy()\n",
        "temp_df['title'] = temp_df['title'].apply(lambda x: ' '.join([word for word in x.split() if word not in (stop)]))"
      ],
      "metadata": {
        "id": "E006C7UEt_WK"
      },
      "execution_count": 95,
      "outputs": []
    },
    {
      "cell_type": "markdown",
      "source": [
        "### Count occurences"
      ],
      "metadata": {
        "id": "XE6ksTbN0DLF"
      }
    },
    {
      "cell_type": "code",
      "source": [
        "from collections import Counter\n",
        "top_20_most_common_words = Counter(\" \".join(temp_df['title']).split()).most_common(20)"
      ],
      "metadata": {
        "id": "J8mq0HG3vcdw"
      },
      "execution_count": 96,
      "outputs": []
    },
    {
      "cell_type": "markdown",
      "source": [
        "### Build dataframe to plot"
      ],
      "metadata": {
        "id": "wh_I78_W0J7t"
      }
    },
    {
      "cell_type": "code",
      "source": [
        "top_20_most_common_words_df = pd.DataFrame(top_20_most_common_words, columns =['word', 'score'])"
      ],
      "metadata": {
        "id": "NY1MVtktyApc"
      },
      "execution_count": 97,
      "outputs": []
    },
    {
      "cell_type": "code",
      "source": [
        "import matplotlib.pyplot as plt\n",
        "plt.bar(range(len(top_20_most_common_words_df['score'])), top_20_most_common_words_df['score'], align='center')\n",
        "plt.xticks(range(len(top_20_most_common_words_df['word'])), top_20_most_common_words_df['word'], size='small', rotation=90)\n",
        "plt.show()"
      ],
      "metadata": {
        "colab": {
          "base_uri": "https://localhost:8080/",
          "height": 456
        },
        "id": "Ab0H3zOWwTdI",
        "outputId": "07370454-2276-4446-87a8-5aa3d0ee0cb3"
      },
      "execution_count": 98,
      "outputs": [
        {
          "output_type": "display_data",
          "data": {
            "text/plain": [
              "<Figure size 640x480 with 1 Axes>"
            ],
            "image/png": "[encoded data removed]"
          },
          "metadata": {}
        }
      ]
    },
    {
      "cell_type": "markdown",
      "source": [
        "## Question 5"
      ],
      "metadata": {
        "id": "GJXdgpSAzyQL"
      }
    },
    {
      "cell_type": "code",
      "source": [
        "# find top 10 authors with most published books\n",
        "top_authors_most_published_books = df['author'].value_counts().nlargest(10)"
      ],
      "metadata": {
        "id": "SQBHM77_z0AL"
      },
      "execution_count": 99,
      "outputs": []
    },
    {
      "cell_type": "code",
      "source": [
        "top_authors_most_published_books"
      ],
      "metadata": {
        "colab": {
          "base_uri": "https://localhost:8080/"
        },
        "id": "KWe879oW2Dng",
        "outputId": "345f5386-fe32-4ed3-ae28-b9f999eae414"
      },
      "execution_count": 100,
      "outputs": [
        {
          "output_type": "execute_result",
          "data": {
            "text/plain": [
              "Nora Roberts (Goodreads Author)       86\n",
              "Agatha Christie                       72\n",
              "Stephen King (Goodreads Author)       66\n",
              "Erin Hunter                           59\n",
              "Bella Forrest (Goodreads Author)      53\n",
              "Meg Cabot (Goodreads Author)          52\n",
              "Lucian Bane (Goodreads Author)        49\n",
              "Karen Kingsbury (Goodreads Author)    48\n",
              "Terry Pratchett                       48\n",
              "NOT A BOOK                            47\n",
              "Name: author, dtype: int64"
            ]
          },
          "metadata": {},
          "execution_count": 100
        }
      ]
    },
    {
      "cell_type": "code",
      "source": [
        "# Convert series to dataframe\n",
        "top_authors_most_published_books_df = pd.DataFrame({'name':top_authors_most_published_books.index, 'booksPublished':top_authors_most_published_books.values})"
      ],
      "metadata": {
        "id": "X2_goVtR1aFS"
      },
      "execution_count": 101,
      "outputs": []
    },
    {
      "cell_type": "code",
      "source": [
        "import matplotlib.pyplot as plt\n",
        "plt.bar(range(len(top_authors_most_published_books_df['booksPublished'])), top_authors_most_published_books_df['booksPublished'], align='center')\n",
        "plt.xticks(range(len(top_authors_most_published_books_df['name'])), top_authors_most_published_books_df['name'], size='small', rotation=90)\n",
        "plt.show()"
      ],
      "metadata": {
        "colab": {
          "base_uri": "https://localhost:8080/",
          "height": 630
        },
        "id": "37Ifllw61t7p",
        "outputId": "3053213a-685f-43b4-d064-22ac2c8b0bca"
      },
      "execution_count": 102,
      "outputs": [
        {
          "output_type": "display_data",
          "data": {
            "text/plain": [
              "<Figure size 640x480 with 1 Axes>"
            ],
            "image/png": "[encoded data removed]"
          },
          "metadata": {}
        }
      ]
    },
    {
      "cell_type": "markdown",
      "source": [
        "## Reccommendation System"
      ],
      "metadata": {
        "id": "KRq70fWZbDen"
      }
    },
    {
      "cell_type": "code",
      "source": [
        "df.shape"
      ],
      "metadata": {
        "colab": {
          "base_uri": "https://localhost:8080/"
        },
        "id": "MKnts7QiPsPG",
        "outputId": "33f77340-51df-4186-d355-310001525427"
      },
      "execution_count": 103,
      "outputs": [
        {
          "output_type": "execute_result",
          "data": {
            "text/plain": [
              "(52478, 32)"
            ]
          },
          "metadata": {},
          "execution_count": 103
        }
      ]
    },
    {
      "cell_type": "code",
      "source": [
        "# Only \"English\"\n",
        "recommendations_df = df[df['language'] == \"English\"].copy()\n",
        "recommendations_df = recommendations_df[[\"bookId\",\"description\", \"title\"]]"
      ],
      "metadata": {
        "id": "j80GQLJfbGwJ"
      },
      "execution_count": 104,
      "outputs": []
    },
    {
      "cell_type": "code",
      "source": [
        "recommendations_df = recommendations_df.dropna()"
      ],
      "metadata": {
        "id": "CDHzA4fRRSwN"
      },
      "execution_count": 105,
      "outputs": []
    },
    {
      "cell_type": "code",
      "source": [
        "recommendations_df"
      ],
      "metadata": {
        "colab": {
          "base_uri": "https://localhost:8080/",
          "height": 423
        },
        "id": "WTqfwJDzcceN",
        "outputId": "bffef6e8-14d0-4dbf-92bf-a059b5635cac"
      },
      "execution_count": 106,
      "outputs": [
        {
          "output_type": "execute_result",
          "data": {
            "text/plain": [
              "                                            bookId  \\\n",
              "0                         2767052-the-hunger-games   \n",
              "1      2.Harry_Potter_and_the_Order_of_the_Phoenix   \n",
              "2                       2657.To_Kill_a_Mockingbird   \n",
              "3                         1885.Pride_and_Prejudice   \n",
              "4                                   41865.Twilight   \n",
              "...                                            ...   \n",
              "52473                           11492014-fractured   \n",
              "52474                             11836711-anasazi   \n",
              "52475                              10815662-marked   \n",
              "52476                         11330278-wayward-son   \n",
              "52477                 10991547-daughter-of-helaman   \n",
              "\n",
              "                                             description  \\\n",
              "0      WINNING MEANS FAME AND FORTUNE.LOSING MEANS CE...   \n",
              "1      There is a door at the end of a silent corrido...   \n",
              "2      The unforgettable novel of a childhood in a sl...   \n",
              "3      Alternate cover edition of ISBN 9780679783268S...   \n",
              "4      About three things I was absolutely positive.\\...   \n",
              "...                                                  ...   \n",
              "52473  The Fateful Trilogy continues with Fractured. ...   \n",
              "52474  'Anasazi', sequel to 'The Thirteenth Chime' by...   \n",
              "52475  --READERS FAVORITE AWARDS WINNER 2011--Sixteen...   \n",
              "52476  A POWERFUL TREMOR UNEARTHS AN ANCIENT SECRETBu...   \n",
              "52477  Fighting in Helaman's army is Keturah's deepes...   \n",
              "\n",
              "                                           title  \n",
              "0                               The Hunger Games  \n",
              "1      Harry Potter and the Order of the Phoenix  \n",
              "2                          To Kill a Mockingbird  \n",
              "3                            Pride and Prejudice  \n",
              "4                                       Twilight  \n",
              "...                                          ...  \n",
              "52473                                  Fractured  \n",
              "52474                                    Anasazi  \n",
              "52475                                     Marked  \n",
              "52476                                Wayward Son  \n",
              "52477                        Daughter of Helaman  \n",
              "\n",
              "[42151 rows x 3 columns]"
            ],
            "text/html": [
              "\n",
              "  <div id=\"df-99602407-cb0e-4433-a5e6-4118efbf6fc3\">\n",
              "    <div class=\"colab-df-container\">\n",
              "      <div>\n",
              "<style scoped>\n",
              "    .dataframe tbody tr th:only-of-type {\n",
              "        vertical-align: middle;\n",
              "    }\n",
              "\n",
              "    .dataframe tbody tr th {\n",
              "        vertical-align: top;\n",
              "    }\n",
              "\n",
              "    .dataframe thead th {\n",
              "        text-align: right;\n",
              "    }\n",
              "</style>\n",
              "<table border=\"1\" class=\"dataframe\">\n",
              "  <thead>\n",
              "    <tr style=\"text-align: right;\">\n",
              "      <th></th>\n",
              "      <th>bookId</th>\n",
              "      <th>description</th>\n",
              "      <th>title</th>\n",
              "    </tr>\n",
              "  </thead>\n",
              "  <tbody>\n",
              "    <tr>\n",
              "      <th>0</th>\n",
              "      <td>2767052-the-hunger-games</td>\n",
              "      <td>WINNING MEANS FAME AND FORTUNE.LOSING MEANS CE...</td>\n",
              "      <td>The Hunger Games</td>\n",
              "    </tr>\n",
              "    <tr>\n",
              "      <th>1</th>\n",
              "      <td>2.Harry_Potter_and_the_Order_of_the_Phoenix</td>\n",
              "      <td>There is a door at the end of a silent corrido...</td>\n",
              "      <td>Harry Potter and the Order of the Phoenix</td>\n",
              "    </tr>\n",
              "    <tr>\n",
              "      <th>2</th>\n",
              "      <td>2657.To_Kill_a_Mockingbird</td>\n",
              "      <td>The unforgettable novel of a childhood in a sl...</td>\n",
              "      <td>To Kill a Mockingbird</td>\n",
              "    </tr>\n",
              "    <tr>\n",
              "      <th>3</th>\n",
              "      <td>1885.Pride_and_Prejudice</td>\n",
              "      <td>Alternate cover edition of ISBN 9780679783268S...</td>\n",
              "      <td>Pride and Prejudice</td>\n",
              "    </tr>\n",
              "    <tr>\n",
              "      <th>4</th>\n",
              "      <td>41865.Twilight</td>\n",
              "      <td>About three things I was absolutely positive.\\...</td>\n",
              "      <td>Twilight</td>\n",
              "    </tr>\n",
              "    <tr>\n",
              "      <th>...</th>\n",
              "      <td>...</td>\n",
              "      <td>...</td>\n",
              "      <td>...</td>\n",
              "    </tr>\n",
              "    <tr>\n",
              "      <th>52473</th>\n",
              "      <td>11492014-fractured</td>\n",
              "      <td>The Fateful Trilogy continues with Fractured. ...</td>\n",
              "      <td>Fractured</td>\n",
              "    </tr>\n",
              "    <tr>\n",
              "      <th>52474</th>\n",
              "      <td>11836711-anasazi</td>\n",
              "      <td>'Anasazi', sequel to 'The Thirteenth Chime' by...</td>\n",
              "      <td>Anasazi</td>\n",
              "    </tr>\n",
              "    <tr>\n",
              "      <th>52475</th>\n",
              "      <td>10815662-marked</td>\n",
              "      <td>--READERS FAVORITE AWARDS WINNER 2011--Sixteen...</td>\n",
              "      <td>Marked</td>\n",
              "    </tr>\n",
              "    <tr>\n",
              "      <th>52476</th>\n",
              "      <td>11330278-wayward-son</td>\n",
              "      <td>A POWERFUL TREMOR UNEARTHS AN ANCIENT SECRETBu...</td>\n",
              "      <td>Wayward Son</td>\n",
              "    </tr>\n",
              "    <tr>\n",
              "      <th>52477</th>\n",
              "      <td>10991547-daughter-of-helaman</td>\n",
              "      <td>Fighting in Helaman's army is Keturah's deepes...</td>\n",
              "      <td>Daughter of Helaman</td>\n",
              "    </tr>\n",
              "  </tbody>\n",
              "</table>\n",
              "<p>42151 rows × 3 columns</p>\n",
              "</div>\n",
              "      <button class=\"colab-df-convert\" onclick=\"convertToInteractive('df-99602407-cb0e-4433-a5e6-4118efbf6fc3')\"\n",
              "              title=\"Convert this dataframe to an interactive table.\"\n",
              "              style=\"display:none;\">\n",
              "        \n",
              "  <svg xmlns=\"http://www.w3.org/2000/svg\" height=\"24px\"viewBox=\"0 0 24 24\"\n",
              "       width=\"24px\">\n",
              "    <path d=\"M0 0h24v24H0V0z\" fill=\"none\"/>\n",
              "    <path d=\"M18.56 5.44l.94 2.06.94-2.06 2.06-.94-2.06-.94-.94-2.06-.94 2.06-2.06.94zm-11 1L8.5 8.5l.94-2.06 2.06-.94-2.06-.94L8.5 2.5l-.94 2.06-2.06.94zm10 10l.94 2.06.94-2.06 2.06-.94-2.06-.94-.94-2.06-.94 2.06-2.06.94z\"/><path d=\"M17.41 7.96l-1.37-1.37c-.4-.4-.92-.59-1.43-.59-.52 0-1.04.2-1.43.59L10.3 9.45l-7.72 7.72c-.78.78-.78 2.05 0 2.83L4 21.41c.39.39.9.59 1.41.59.51 0 1.02-.2 1.41-.59l7.78-7.78 2.81-2.81c.8-.78.8-2.07 0-2.86zM5.41 20L4 18.59l7.72-7.72 1.47 1.35L5.41 20z\"/>\n",
              "  </svg>\n",
              "      </button>\n",
              "      \n",
              "  <style>\n",
              "    .colab-df-container {\n",
              "      display:flex;\n",
              "      flex-wrap:wrap;\n",
              "      gap: 12px;\n",
              "    }\n",
              "\n",
              "    .colab-df-convert {\n",
              "      background-color: #E8F0FE;\n",
              "      border: none;\n",
              "      border-radius: 50%;\n",
              "      cursor: pointer;\n",
              "      display: none;\n",
              "      fill: #1967D2;\n",
              "      height: 32px;\n",
              "      padding: 0 0 0 0;\n",
              "      width: 32px;\n",
              "    }\n",
              "\n",
              "    .colab-df-convert:hover {\n",
              "      background-color: #E2EBFA;\n",
              "      box-shadow: 0px 1px 2px rgba(60, 64, 67, 0.3), 0px 1px 3px 1px rgba(60, 64, 67, 0.15);\n",
              "      fill: #174EA6;\n",
              "    }\n",
              "\n",
              "    [theme=dark] .colab-df-convert {\n",
              "      background-color: #3B4455;\n",
              "      fill: #D2E3FC;\n",
              "    }\n",
              "\n",
              "    [theme=dark] .colab-df-convert:hover {\n",
              "      background-color: #434B5C;\n",
              "      box-shadow: 0px 1px 3px 1px rgba(0, 0, 0, 0.15);\n",
              "      filter: drop-shadow(0px 1px 2px rgba(0, 0, 0, 0.3));\n",
              "      fill: #FFFFFF;\n",
              "    }\n",
              "  </style>\n",
              "\n",
              "      <script>\n",
              "        const buttonEl =\n",
              "          document.querySelector('#df-99602407-cb0e-4433-a5e6-4118efbf6fc3 button.colab-df-convert');\n",
              "        buttonEl.style.display =\n",
              "          google.colab.kernel.accessAllowed ? 'block' : 'none';\n",
              "\n",
              "        async function convertToInteractive(key) {\n",
              "          const element = document.querySelector('#df-99602407-cb0e-4433-a5e6-4118efbf6fc3');\n",
              "          const dataTable =\n",
              "            await google.colab.kernel.invokeFunction('convertToInteractive',\n",
              "                                                     [key], {});\n",
              "          if (!dataTable) return;\n",
              "\n",
              "          const docLinkHtml = 'Like what you see? Visit the ' +\n",
              "            '<a target=\"_blank\" href=https://colab.research.google.com/notebooks/data_table.ipynb>data table notebook</a>'\n",
              "            + ' to learn more about interactive tables.';\n",
              "          element.innerHTML = '';\n",
              "          dataTable['output_type'] = 'display_data';\n",
              "          await google.colab.output.renderOutput(dataTable, element);\n",
              "          const docLink = document.createElement('div');\n",
              "          docLink.innerHTML = docLinkHtml;\n",
              "          element.appendChild(docLink);\n",
              "        }\n",
              "      </script>\n",
              "    </div>\n",
              "  </div>\n",
              "  "
            ]
          },
          "metadata": {},
          "execution_count": 106
        }
      ]
    },
    {
      "cell_type": "markdown",
      "source": [
        "## Text preproccessing"
      ],
      "metadata": {
        "id": "dIE1y3oGmU6e"
      }
    },
    {
      "cell_type": "code",
      "source": [
        "import re,string,unicodedata\n",
        "from nltk.tokenize.toktok import ToktokTokenizer\n",
        "\n",
        "#Tokenization of text\n",
        "tokenizer=ToktokTokenizer()\n",
        "nltk.download('stopwords')\n",
        "stopword_list=nltk.corpus.stopwords.words('english')\n",
        "\n",
        "def remove_special_characters(text, remove_digits=True):\n",
        "    pattern=r'[^a-zA-z0-9\\s]'\n",
        "    text=re.sub(pattern,'',text)\n",
        "    return text\n",
        "stop=set(stopwords.words('english'))\n",
        "\n",
        "#removing the stopwords\n",
        "def remove_stopwords(text, is_lower_case=False):\n",
        "    tokens = tokenizer.tokenize(text)\n",
        "    tokens = [token.strip() for token in tokens]\n",
        "    if is_lower_case:\n",
        "        filtered_tokens = [token for token in tokens if token not in stopword_list]\n",
        "    else:\n",
        "        filtered_tokens = [token for token in tokens if token.lower() not in stopword_list]\n",
        "    filtered_text = ' '.join(filtered_tokens)    \n",
        "    return filtered_text\n",
        "\n",
        "def lowercase(text):\n",
        "  return text.lower()"
      ],
      "metadata": {
        "colab": {
          "base_uri": "https://localhost:8080/"
        },
        "id": "OlSi3bAVmUnn",
        "outputId": "2f0e40e7-ee42-4767-af2a-3d9e65df6219"
      },
      "execution_count": 107,
      "outputs": [
        {
          "output_type": "stream",
          "name": "stderr",
          "text": [
            "[nltk_data] Downloading package stopwords to /root/nltk_data...\n",
            "[nltk_data]   Package stopwords is already up-to-date!\n"
          ]
        }
      ]
    },
    {
      "cell_type": "code",
      "source": [
        "# text cleaning affects bigram a lot to the point of struggling to find actual similar books\n",
        "# You can clean text for unigram, it works\n",
        "#recommendations_df['description']=recommendations_df['description'].apply(lowercase)\n",
        "#recommendations_df['description']=recommendations_df['description'].apply(remove_special_characters)\n",
        "#recommendations_df['description']=recommendations_df['description'].apply(remove_stopwords)"
      ],
      "metadata": {
        "id": "ckbTpZkHmuLj"
      },
      "execution_count": 108,
      "outputs": []
    },
    {
      "cell_type": "code",
      "source": [
        "recommendations_df"
      ],
      "metadata": {
        "colab": {
          "base_uri": "https://localhost:8080/",
          "height": 423
        },
        "id": "c_kxABkDKoG_",
        "outputId": "1b3dbe46-8565-4fd6-bdd7-3b1f9453d5a1"
      },
      "execution_count": 109,
      "outputs": [
        {
          "output_type": "execute_result",
          "data": {
            "text/plain": [
              "                                            bookId  \\\n",
              "0                         2767052-the-hunger-games   \n",
              "1      2.Harry_Potter_and_the_Order_of_the_Phoenix   \n",
              "2                       2657.To_Kill_a_Mockingbird   \n",
              "3                         1885.Pride_and_Prejudice   \n",
              "4                                   41865.Twilight   \n",
              "...                                            ...   \n",
              "52473                           11492014-fractured   \n",
              "52474                             11836711-anasazi   \n",
              "52475                              10815662-marked   \n",
              "52476                         11330278-wayward-son   \n",
              "52477                 10991547-daughter-of-helaman   \n",
              "\n",
              "                                             description  \\\n",
              "0      WINNING MEANS FAME AND FORTUNE.LOSING MEANS CE...   \n",
              "1      There is a door at the end of a silent corrido...   \n",
              "2      The unforgettable novel of a childhood in a sl...   \n",
              "3      Alternate cover edition of ISBN 9780679783268S...   \n",
              "4      About three things I was absolutely positive.\\...   \n",
              "...                                                  ...   \n",
              "52473  The Fateful Trilogy continues with Fractured. ...   \n",
              "52474  'Anasazi', sequel to 'The Thirteenth Chime' by...   \n",
              "52475  --READERS FAVORITE AWARDS WINNER 2011--Sixteen...   \n",
              "52476  A POWERFUL TREMOR UNEARTHS AN ANCIENT SECRETBu...   \n",
              "52477  Fighting in Helaman's army is Keturah's deepes...   \n",
              "\n",
              "                                           title  \n",
              "0                               The Hunger Games  \n",
              "1      Harry Potter and the Order of the Phoenix  \n",
              "2                          To Kill a Mockingbird  \n",
              "3                            Pride and Prejudice  \n",
              "4                                       Twilight  \n",
              "...                                          ...  \n",
              "52473                                  Fractured  \n",
              "52474                                    Anasazi  \n",
              "52475                                     Marked  \n",
              "52476                                Wayward Son  \n",
              "52477                        Daughter of Helaman  \n",
              "\n",
              "[42151 rows x 3 columns]"
            ],
            "text/html": [
              "\n",
              "  <div id=\"df-eae32cfd-189d-4d9a-b9be-f8c435f71134\">\n",
              "    <div class=\"colab-df-container\">\n",
              "      <div>\n",
              "<style scoped>\n",
              "    .dataframe tbody tr th:only-of-type {\n",
              "        vertical-align: middle;\n",
              "    }\n",
              "\n",
              "    .dataframe tbody tr th {\n",
              "        vertical-align: top;\n",
              "    }\n",
              "\n",
              "    .dataframe thead th {\n",
              "        text-align: right;\n",
              "    }\n",
              "</style>\n",
              "<table border=\"1\" class=\"dataframe\">\n",
              "  <thead>\n",
              "    <tr style=\"text-align: right;\">\n",
              "      <th></th>\n",
              "      <th>bookId</th>\n",
              "      <th>description</th>\n",
              "      <th>title</th>\n",
              "    </tr>\n",
              "  </thead>\n",
              "  <tbody>\n",
              "    <tr>\n",
              "      <th>0</th>\n",
              "      <td>2767052-the-hunger-games</td>\n",
              "      <td>WINNING MEANS FAME AND FORTUNE.LOSING MEANS CE...</td>\n",
              "      <td>The Hunger Games</td>\n",
              "    </tr>\n",
              "    <tr>\n",
              "      <th>1</th>\n",
              "      <td>2.Harry_Potter_and_the_Order_of_the_Phoenix</td>\n",
              "      <td>There is a door at the end of a silent corrido...</td>\n",
              "      <td>Harry Potter and the Order of the Phoenix</td>\n",
              "    </tr>\n",
              "    <tr>\n",
              "      <th>2</th>\n",
              "      <td>2657.To_Kill_a_Mockingbird</td>\n",
              "      <td>The unforgettable novel of a childhood in a sl...</td>\n",
              "      <td>To Kill a Mockingbird</td>\n",
              "    </tr>\n",
              "    <tr>\n",
              "      <th>3</th>\n",
              "      <td>1885.Pride_and_Prejudice</td>\n",
              "      <td>Alternate cover edition of ISBN 9780679783268S...</td>\n",
              "      <td>Pride and Prejudice</td>\n",
              "    </tr>\n",
              "    <tr>\n",
              "      <th>4</th>\n",
              "      <td>41865.Twilight</td>\n",
              "      <td>About three things I was absolutely positive.\\...</td>\n",
              "      <td>Twilight</td>\n",
              "    </tr>\n",
              "    <tr>\n",
              "      <th>...</th>\n",
              "      <td>...</td>\n",
              "      <td>...</td>\n",
              "      <td>...</td>\n",
              "    </tr>\n",
              "    <tr>\n",
              "      <th>52473</th>\n",
              "      <td>11492014-fractured</td>\n",
              "      <td>The Fateful Trilogy continues with Fractured. ...</td>\n",
              "      <td>Fractured</td>\n",
              "    </tr>\n",
              "    <tr>\n",
              "      <th>52474</th>\n",
              "      <td>11836711-anasazi</td>\n",
              "      <td>'Anasazi', sequel to 'The Thirteenth Chime' by...</td>\n",
              "      <td>Anasazi</td>\n",
              "    </tr>\n",
              "    <tr>\n",
              "      <th>52475</th>\n",
              "      <td>10815662-marked</td>\n",
              "      <td>--READERS FAVORITE AWARDS WINNER 2011--Sixteen...</td>\n",
              "      <td>Marked</td>\n",
              "    </tr>\n",
              "    <tr>\n",
              "      <th>52476</th>\n",
              "      <td>11330278-wayward-son</td>\n",
              "      <td>A POWERFUL TREMOR UNEARTHS AN ANCIENT SECRETBu...</td>\n",
              "      <td>Wayward Son</td>\n",
              "    </tr>\n",
              "    <tr>\n",
              "      <th>52477</th>\n",
              "      <td>10991547-daughter-of-helaman</td>\n",
              "      <td>Fighting in Helaman's army is Keturah's deepes...</td>\n",
              "      <td>Daughter of Helaman</td>\n",
              "    </tr>\n",
              "  </tbody>\n",
              "</table>\n",
              "<p>42151 rows × 3 columns</p>\n",
              "</div>\n",
              "      <button class=\"colab-df-convert\" onclick=\"convertToInteractive('df-eae32cfd-189d-4d9a-b9be-f8c435f71134')\"\n",
              "              title=\"Convert this dataframe to an interactive table.\"\n",
              "              style=\"display:none;\">\n",
              "        \n",
              "  <svg xmlns=\"http://www.w3.org/2000/svg\" height=\"24px\"viewBox=\"0 0 24 24\"\n",
              "       width=\"24px\">\n",
              "    <path d=\"M0 0h24v24H0V0z\" fill=\"none\"/>\n",
              "    <path d=\"M18.56 5.44l.94 2.06.94-2.06 2.06-.94-2.06-.94-.94-2.06-.94 2.06-2.06.94zm-11 1L8.5 8.5l.94-2.06 2.06-.94-2.06-.94L8.5 2.5l-.94 2.06-2.06.94zm10 10l.94 2.06.94-2.06 2.06-.94-2.06-.94-.94-2.06-.94 2.06-2.06.94z\"/><path d=\"M17.41 7.96l-1.37-1.37c-.4-.4-.92-.59-1.43-.59-.52 0-1.04.2-1.43.59L10.3 9.45l-7.72 7.72c-.78.78-.78 2.05 0 2.83L4 21.41c.39.39.9.59 1.41.59.51 0 1.02-.2 1.41-.59l7.78-7.78 2.81-2.81c.8-.78.8-2.07 0-2.86zM5.41 20L4 18.59l7.72-7.72 1.47 1.35L5.41 20z\"/>\n",
              "  </svg>\n",
              "      </button>\n",
              "      \n",
              "  <style>\n",
              "    .colab-df-container {\n",
              "      display:flex;\n",
              "      flex-wrap:wrap;\n",
              "      gap: 12px;\n",
              "    }\n",
              "\n",
              "    .colab-df-convert {\n",
              "      background-color: #E8F0FE;\n",
              "      border: none;\n",
              "      border-radius: 50%;\n",
              "      cursor: pointer;\n",
              "      display: none;\n",
              "      fill: #1967D2;\n",
              "      height: 32px;\n",
              "      padding: 0 0 0 0;\n",
              "      width: 32px;\n",
              "    }\n",
              "\n",
              "    .colab-df-convert:hover {\n",
              "      background-color: #E2EBFA;\n",
              "      box-shadow: 0px 1px 2px rgba(60, 64, 67, 0.3), 0px 1px 3px 1px rgba(60, 64, 67, 0.15);\n",
              "      fill: #174EA6;\n",
              "    }\n",
              "\n",
              "    [theme=dark] .colab-df-convert {\n",
              "      background-color: #3B4455;\n",
              "      fill: #D2E3FC;\n",
              "    }\n",
              "\n",
              "    [theme=dark] .colab-df-convert:hover {\n",
              "      background-color: #434B5C;\n",
              "      box-shadow: 0px 1px 3px 1px rgba(0, 0, 0, 0.15);\n",
              "      filter: drop-shadow(0px 1px 2px rgba(0, 0, 0, 0.3));\n",
              "      fill: #FFFFFF;\n",
              "    }\n",
              "  </style>\n",
              "\n",
              "      <script>\n",
              "        const buttonEl =\n",
              "          document.querySelector('#df-eae32cfd-189d-4d9a-b9be-f8c435f71134 button.colab-df-convert');\n",
              "        buttonEl.style.display =\n",
              "          google.colab.kernel.accessAllowed ? 'block' : 'none';\n",
              "\n",
              "        async function convertToInteractive(key) {\n",
              "          const element = document.querySelector('#df-eae32cfd-189d-4d9a-b9be-f8c435f71134');\n",
              "          const dataTable =\n",
              "            await google.colab.kernel.invokeFunction('convertToInteractive',\n",
              "                                                     [key], {});\n",
              "          if (!dataTable) return;\n",
              "\n",
              "          const docLinkHtml = 'Like what you see? Visit the ' +\n",
              "            '<a target=\"_blank\" href=https://colab.research.google.com/notebooks/data_table.ipynb>data table notebook</a>'\n",
              "            + ' to learn more about interactive tables.';\n",
              "          element.innerHTML = '';\n",
              "          dataTable['output_type'] = 'display_data';\n",
              "          await google.colab.output.renderOutput(dataTable, element);\n",
              "          const docLink = document.createElement('div');\n",
              "          docLink.innerHTML = docLinkHtml;\n",
              "          element.appendChild(docLink);\n",
              "        }\n",
              "      </script>\n",
              "    </div>\n",
              "  </div>\n",
              "  "
            ]
          },
          "metadata": {},
          "execution_count": 109
        }
      ]
    },
    {
      "cell_type": "code",
      "source": [
        "recommendations_df.dropna(\n",
        "    axis=0,\n",
        "    how='any',\n",
        "    subset=None,\n",
        "    inplace=True\n",
        ")"
      ],
      "metadata": {
        "id": "zLQ1YvRaLDBB"
      },
      "execution_count": 110,
      "outputs": []
    },
    {
      "cell_type": "markdown",
      "source": [
        "### Decreasing the size of the dataset in order not to run out of RAM"
      ],
      "metadata": {
        "id": "JK8_PgvuXEUe"
      }
    },
    {
      "cell_type": "code",
      "source": [
        "recommendations_df = recommendations_df[:20000]"
      ],
      "metadata": {
        "id": "t_Kw3P6RcJfa"
      },
      "execution_count": 111,
      "outputs": []
    },
    {
      "cell_type": "code",
      "source": [
        "recommendations_df"
      ],
      "metadata": {
        "colab": {
          "base_uri": "https://localhost:8080/",
          "height": 423
        },
        "id": "86rIj0SCMae9",
        "outputId": "afb4c62f-0899-4646-da14-ff6599a1f4e6"
      },
      "execution_count": 112,
      "outputs": [
        {
          "output_type": "execute_result",
          "data": {
            "text/plain": [
              "                                            bookId  \\\n",
              "0                         2767052-the-hunger-games   \n",
              "1      2.Harry_Potter_and_the_Order_of_the_Phoenix   \n",
              "2                       2657.To_Kill_a_Mockingbird   \n",
              "3                         1885.Pride_and_Prejudice   \n",
              "4                                   41865.Twilight   \n",
              "...                                            ...   \n",
              "23357                           70236.Running_Wild   \n",
              "23363             36613747-how-to-change-your-mind   \n",
              "23364                     36421604-the-other-woman   \n",
              "23366         29633584-the-protection-of-ren-crown   \n",
              "23367                           39218044-small-fry   \n",
              "\n",
              "                                             description  \\\n",
              "0      WINNING MEANS FAME AND FORTUNE.LOSING MEANS CE...   \n",
              "1      There is a door at the end of a silent corrido...   \n",
              "2      The unforgettable novel of a childhood in a sl...   \n",
              "3      Alternate cover edition of ISBN 9780679783268S...   \n",
              "4      About three things I was absolutely positive.\\...   \n",
              "...                                                  ...   \n",
              "23357  The thirty-two adult members of an exclusive r...   \n",
              "23363  Could psychedelic drugs change our worldview? ...   \n",
              "23364  She was his best-kept secret …In an isolated v...   \n",
              "23366  Barely surviving her first term at college, al...   \n",
              "23367  Born on a farm and named in a field by her par...   \n",
              "\n",
              "                                                   title  \n",
              "0                                       The Hunger Games  \n",
              "1              Harry Potter and the Order of the Phoenix  \n",
              "2                                  To Kill a Mockingbird  \n",
              "3                                    Pride and Prejudice  \n",
              "4                                               Twilight  \n",
              "...                                                  ...  \n",
              "23357                                       Running Wild  \n",
              "23363  How to Change Your Mind: What the New Science ...  \n",
              "23364                                    The Other Woman  \n",
              "23366                        The Protection of Ren Crown  \n",
              "23367                                Small Fry: A Memoir  \n",
              "\n",
              "[20000 rows x 3 columns]"
            ],
            "text/html": [
              "\n",
              "  <div id=\"df-48665c88-c9ea-4168-90e8-70127333e6a8\">\n",
              "    <div class=\"colab-df-container\">\n",
              "      <div>\n",
              "<style scoped>\n",
              "    .dataframe tbody tr th:only-of-type {\n",
              "        vertical-align: middle;\n",
              "    }\n",
              "\n",
              "    .dataframe tbody tr th {\n",
              "        vertical-align: top;\n",
              "    }\n",
              "\n",
              "    .dataframe thead th {\n",
              "        text-align: right;\n",
              "    }\n",
              "</style>\n",
              "<table border=\"1\" class=\"dataframe\">\n",
              "  <thead>\n",
              "    <tr style=\"text-align: right;\">\n",
              "      <th></th>\n",
              "      <th>bookId</th>\n",
              "      <th>description</th>\n",
              "      <th>title</th>\n",
              "    </tr>\n",
              "  </thead>\n",
              "  <tbody>\n",
              "    <tr>\n",
              "      <th>0</th>\n",
              "      <td>2767052-the-hunger-games</td>\n",
              "      <td>WINNING MEANS FAME AND FORTUNE.LOSING MEANS CE...</td>\n",
              "      <td>The Hunger Games</td>\n",
              "    </tr>\n",
              "    <tr>\n",
              "      <th>1</th>\n",
              "      <td>2.Harry_Potter_and_the_Order_of_the_Phoenix</td>\n",
              "      <td>There is a door at the end of a silent corrido...</td>\n",
              "      <td>Harry Potter and the Order of the Phoenix</td>\n",
              "    </tr>\n",
              "    <tr>\n",
              "      <th>2</th>\n",
              "      <td>2657.To_Kill_a_Mockingbird</td>\n",
              "      <td>The unforgettable novel of a childhood in a sl...</td>\n",
              "      <td>To Kill a Mockingbird</td>\n",
              "    </tr>\n",
              "    <tr>\n",
              "      <th>3</th>\n",
              "      <td>1885.Pride_and_Prejudice</td>\n",
              "      <td>Alternate cover edition of ISBN 9780679783268S...</td>\n",
              "      <td>Pride and Prejudice</td>\n",
              "    </tr>\n",
              "    <tr>\n",
              "      <th>4</th>\n",
              "      <td>41865.Twilight</td>\n",
              "      <td>About three things I was absolutely positive.\\...</td>\n",
              "      <td>Twilight</td>\n",
              "    </tr>\n",
              "    <tr>\n",
              "      <th>...</th>\n",
              "      <td>...</td>\n",
              "      <td>...</td>\n",
              "      <td>...</td>\n",
              "    </tr>\n",
              "    <tr>\n",
              "      <th>23357</th>\n",
              "      <td>70236.Running_Wild</td>\n",
              "      <td>The thirty-two adult members of an exclusive r...</td>\n",
              "      <td>Running Wild</td>\n",
              "    </tr>\n",
              "    <tr>\n",
              "      <th>23363</th>\n",
              "      <td>36613747-how-to-change-your-mind</td>\n",
              "      <td>Could psychedelic drugs change our worldview? ...</td>\n",
              "      <td>How to Change Your Mind: What the New Science ...</td>\n",
              "    </tr>\n",
              "    <tr>\n",
              "      <th>23364</th>\n",
              "      <td>36421604-the-other-woman</td>\n",
              "      <td>She was his best-kept secret …In an isolated v...</td>\n",
              "      <td>The Other Woman</td>\n",
              "    </tr>\n",
              "    <tr>\n",
              "      <th>23366</th>\n",
              "      <td>29633584-the-protection-of-ren-crown</td>\n",
              "      <td>Barely surviving her first term at college, al...</td>\n",
              "      <td>The Protection of Ren Crown</td>\n",
              "    </tr>\n",
              "    <tr>\n",
              "      <th>23367</th>\n",
              "      <td>39218044-small-fry</td>\n",
              "      <td>Born on a farm and named in a field by her par...</td>\n",
              "      <td>Small Fry: A Memoir</td>\n",
              "    </tr>\n",
              "  </tbody>\n",
              "</table>\n",
              "<p>20000 rows × 3 columns</p>\n",
              "</div>\n",
              "      <button class=\"colab-df-convert\" onclick=\"convertToInteractive('df-48665c88-c9ea-4168-90e8-70127333e6a8')\"\n",
              "              title=\"Convert this dataframe to an interactive table.\"\n",
              "              style=\"display:none;\">\n",
              "        \n",
              "  <svg xmlns=\"http://www.w3.org/2000/svg\" height=\"24px\"viewBox=\"0 0 24 24\"\n",
              "       width=\"24px\">\n",
              "    <path d=\"M0 0h24v24H0V0z\" fill=\"none\"/>\n",
              "    <path d=\"M18.56 5.44l.94 2.06.94-2.06 2.06-.94-2.06-.94-.94-2.06-.94 2.06-2.06.94zm-11 1L8.5 8.5l.94-2.06 2.06-.94-2.06-.94L8.5 2.5l-.94 2.06-2.06.94zm10 10l.94 2.06.94-2.06 2.06-.94-2.06-.94-.94-2.06-.94 2.06-2.06.94z\"/><path d=\"M17.41 7.96l-1.37-1.37c-.4-.4-.92-.59-1.43-.59-.52 0-1.04.2-1.43.59L10.3 9.45l-7.72 7.72c-.78.78-.78 2.05 0 2.83L4 21.41c.39.39.9.59 1.41.59.51 0 1.02-.2 1.41-.59l7.78-7.78 2.81-2.81c.8-.78.8-2.07 0-2.86zM5.41 20L4 18.59l7.72-7.72 1.47 1.35L5.41 20z\"/>\n",
              "  </svg>\n",
              "      </button>\n",
              "      \n",
              "  <style>\n",
              "    .colab-df-container {\n",
              "      display:flex;\n",
              "      flex-wrap:wrap;\n",
              "      gap: 12px;\n",
              "    }\n",
              "\n",
              "    .colab-df-convert {\n",
              "      background-color: #E8F0FE;\n",
              "      border: none;\n",
              "      border-radius: 50%;\n",
              "      cursor: pointer;\n",
              "      display: none;\n",
              "      fill: #1967D2;\n",
              "      height: 32px;\n",
              "      padding: 0 0 0 0;\n",
              "      width: 32px;\n",
              "    }\n",
              "\n",
              "    .colab-df-convert:hover {\n",
              "      background-color: #E2EBFA;\n",
              "      box-shadow: 0px 1px 2px rgba(60, 64, 67, 0.3), 0px 1px 3px 1px rgba(60, 64, 67, 0.15);\n",
              "      fill: #174EA6;\n",
              "    }\n",
              "\n",
              "    [theme=dark] .colab-df-convert {\n",
              "      background-color: #3B4455;\n",
              "      fill: #D2E3FC;\n",
              "    }\n",
              "\n",
              "    [theme=dark] .colab-df-convert:hover {\n",
              "      background-color: #434B5C;\n",
              "      box-shadow: 0px 1px 3px 1px rgba(0, 0, 0, 0.15);\n",
              "      filter: drop-shadow(0px 1px 2px rgba(0, 0, 0, 0.3));\n",
              "      fill: #FFFFFF;\n",
              "    }\n",
              "  </style>\n",
              "\n",
              "      <script>\n",
              "        const buttonEl =\n",
              "          document.querySelector('#df-48665c88-c9ea-4168-90e8-70127333e6a8 button.colab-df-convert');\n",
              "        buttonEl.style.display =\n",
              "          google.colab.kernel.accessAllowed ? 'block' : 'none';\n",
              "\n",
              "        async function convertToInteractive(key) {\n",
              "          const element = document.querySelector('#df-48665c88-c9ea-4168-90e8-70127333e6a8');\n",
              "          const dataTable =\n",
              "            await google.colab.kernel.invokeFunction('convertToInteractive',\n",
              "                                                     [key], {});\n",
              "          if (!dataTable) return;\n",
              "\n",
              "          const docLinkHtml = 'Like what you see? Visit the ' +\n",
              "            '<a target=\"_blank\" href=https://colab.research.google.com/notebooks/data_table.ipynb>data table notebook</a>'\n",
              "            + ' to learn more about interactive tables.';\n",
              "          element.innerHTML = '';\n",
              "          dataTable['output_type'] = 'display_data';\n",
              "          await google.colab.output.renderOutput(dataTable, element);\n",
              "          const docLink = document.createElement('div');\n",
              "          docLink.innerHTML = docLinkHtml;\n",
              "          element.appendChild(docLink);\n",
              "        }\n",
              "      </script>\n",
              "    </div>\n",
              "  </div>\n",
              "  "
            ]
          },
          "metadata": {},
          "execution_count": 112
        }
      ]
    },
    {
      "cell_type": "code",
      "source": [
        "recommendations_df = recommendations_df.dropna()\n",
        "recommendations_df = recommendations_df.drop_duplicates()"
      ],
      "metadata": {
        "id": "LQb8dV6FfxHV"
      },
      "execution_count": 113,
      "outputs": []
    },
    {
      "cell_type": "code",
      "source": [
        "recommendations_df"
      ],
      "metadata": {
        "colab": {
          "base_uri": "https://localhost:8080/",
          "height": 423
        },
        "id": "hJnaKpdof7R6",
        "outputId": "dfab6151-c63d-4083-f33e-08a68464afd6"
      },
      "execution_count": 114,
      "outputs": [
        {
          "output_type": "execute_result",
          "data": {
            "text/plain": [
              "                                            bookId  \\\n",
              "0                         2767052-the-hunger-games   \n",
              "1      2.Harry_Potter_and_the_Order_of_the_Phoenix   \n",
              "2                       2657.To_Kill_a_Mockingbird   \n",
              "3                         1885.Pride_and_Prejudice   \n",
              "4                                   41865.Twilight   \n",
              "...                                            ...   \n",
              "23357                           70236.Running_Wild   \n",
              "23363             36613747-how-to-change-your-mind   \n",
              "23364                     36421604-the-other-woman   \n",
              "23366         29633584-the-protection-of-ren-crown   \n",
              "23367                           39218044-small-fry   \n",
              "\n",
              "                                             description  \\\n",
              "0      WINNING MEANS FAME AND FORTUNE.LOSING MEANS CE...   \n",
              "1      There is a door at the end of a silent corrido...   \n",
              "2      The unforgettable novel of a childhood in a sl...   \n",
              "3      Alternate cover edition of ISBN 9780679783268S...   \n",
              "4      About three things I was absolutely positive.\\...   \n",
              "...                                                  ...   \n",
              "23357  The thirty-two adult members of an exclusive r...   \n",
              "23363  Could psychedelic drugs change our worldview? ...   \n",
              "23364  She was his best-kept secret …In an isolated v...   \n",
              "23366  Barely surviving her first term at college, al...   \n",
              "23367  Born on a farm and named in a field by her par...   \n",
              "\n",
              "                                                   title  \n",
              "0                                       The Hunger Games  \n",
              "1              Harry Potter and the Order of the Phoenix  \n",
              "2                                  To Kill a Mockingbird  \n",
              "3                                    Pride and Prejudice  \n",
              "4                                               Twilight  \n",
              "...                                                  ...  \n",
              "23357                                       Running Wild  \n",
              "23363  How to Change Your Mind: What the New Science ...  \n",
              "23364                                    The Other Woman  \n",
              "23366                        The Protection of Ren Crown  \n",
              "23367                                Small Fry: A Memoir  \n",
              "\n",
              "[20000 rows x 3 columns]"
            ],
            "text/html": [
              "\n",
              "  <div id=\"df-fce8ed45-36cd-4ee7-8786-f8342e8a4c87\">\n",
              "    <div class=\"colab-df-container\">\n",
              "      <div>\n",
              "<style scoped>\n",
              "    .dataframe tbody tr th:only-of-type {\n",
              "        vertical-align: middle;\n",
              "    }\n",
              "\n",
              "    .dataframe tbody tr th {\n",
              "        vertical-align: top;\n",
              "    }\n",
              "\n",
              "    .dataframe thead th {\n",
              "        text-align: right;\n",
              "    }\n",
              "</style>\n",
              "<table border=\"1\" class=\"dataframe\">\n",
              "  <thead>\n",
              "    <tr style=\"text-align: right;\">\n",
              "      <th></th>\n",
              "      <th>bookId</th>\n",
              "      <th>description</th>\n",
              "      <th>title</th>\n",
              "    </tr>\n",
              "  </thead>\n",
              "  <tbody>\n",
              "    <tr>\n",
              "      <th>0</th>\n",
              "      <td>2767052-the-hunger-games</td>\n",
              "      <td>WINNING MEANS FAME AND FORTUNE.LOSING MEANS CE...</td>\n",
              "      <td>The Hunger Games</td>\n",
              "    </tr>\n",
              "    <tr>\n",
              "      <th>1</th>\n",
              "      <td>2.Harry_Potter_and_the_Order_of_the_Phoenix</td>\n",
              "      <td>There is a door at the end of a silent corrido...</td>\n",
              "      <td>Harry Potter and the Order of the Phoenix</td>\n",
              "    </tr>\n",
              "    <tr>\n",
              "      <th>2</th>\n",
              "      <td>2657.To_Kill_a_Mockingbird</td>\n",
              "      <td>The unforgettable novel of a childhood in a sl...</td>\n",
              "      <td>To Kill a Mockingbird</td>\n",
              "    </tr>\n",
              "    <tr>\n",
              "      <th>3</th>\n",
              "      <td>1885.Pride_and_Prejudice</td>\n",
              "      <td>Alternate cover edition of ISBN 9780679783268S...</td>\n",
              "      <td>Pride and Prejudice</td>\n",
              "    </tr>\n",
              "    <tr>\n",
              "      <th>4</th>\n",
              "      <td>41865.Twilight</td>\n",
              "      <td>About three things I was absolutely positive.\\...</td>\n",
              "      <td>Twilight</td>\n",
              "    </tr>\n",
              "    <tr>\n",
              "      <th>...</th>\n",
              "      <td>...</td>\n",
              "      <td>...</td>\n",
              "      <td>...</td>\n",
              "    </tr>\n",
              "    <tr>\n",
              "      <th>23357</th>\n",
              "      <td>70236.Running_Wild</td>\n",
              "      <td>The thirty-two adult members of an exclusive r...</td>\n",
              "      <td>Running Wild</td>\n",
              "    </tr>\n",
              "    <tr>\n",
              "      <th>23363</th>\n",
              "      <td>36613747-how-to-change-your-mind</td>\n",
              "      <td>Could psychedelic drugs change our worldview? ...</td>\n",
              "      <td>How to Change Your Mind: What the New Science ...</td>\n",
              "    </tr>\n",
              "    <tr>\n",
              "      <th>23364</th>\n",
              "      <td>36421604-the-other-woman</td>\n",
              "      <td>She was his best-kept secret …In an isolated v...</td>\n",
              "      <td>The Other Woman</td>\n",
              "    </tr>\n",
              "    <tr>\n",
              "      <th>23366</th>\n",
              "      <td>29633584-the-protection-of-ren-crown</td>\n",
              "      <td>Barely surviving her first term at college, al...</td>\n",
              "      <td>The Protection of Ren Crown</td>\n",
              "    </tr>\n",
              "    <tr>\n",
              "      <th>23367</th>\n",
              "      <td>39218044-small-fry</td>\n",
              "      <td>Born on a farm and named in a field by her par...</td>\n",
              "      <td>Small Fry: A Memoir</td>\n",
              "    </tr>\n",
              "  </tbody>\n",
              "</table>\n",
              "<p>20000 rows × 3 columns</p>\n",
              "</div>\n",
              "      <button class=\"colab-df-convert\" onclick=\"convertToInteractive('df-fce8ed45-36cd-4ee7-8786-f8342e8a4c87')\"\n",
              "              title=\"Convert this dataframe to an interactive table.\"\n",
              "              style=\"display:none;\">\n",
              "        \n",
              "  <svg xmlns=\"http://www.w3.org/2000/svg\" height=\"24px\"viewBox=\"0 0 24 24\"\n",
              "       width=\"24px\">\n",
              "    <path d=\"M0 0h24v24H0V0z\" fill=\"none\"/>\n",
              "    <path d=\"M18.56 5.44l.94 2.06.94-2.06 2.06-.94-2.06-.94-.94-2.06-.94 2.06-2.06.94zm-11 1L8.5 8.5l.94-2.06 2.06-.94-2.06-.94L8.5 2.5l-.94 2.06-2.06.94zm10 10l.94 2.06.94-2.06 2.06-.94-2.06-.94-.94-2.06-.94 2.06-2.06.94z\"/><path d=\"M17.41 7.96l-1.37-1.37c-.4-.4-.92-.59-1.43-.59-.52 0-1.04.2-1.43.59L10.3 9.45l-7.72 7.72c-.78.78-.78 2.05 0 2.83L4 21.41c.39.39.9.59 1.41.59.51 0 1.02-.2 1.41-.59l7.78-7.78 2.81-2.81c.8-.78.8-2.07 0-2.86zM5.41 20L4 18.59l7.72-7.72 1.47 1.35L5.41 20z\"/>\n",
              "  </svg>\n",
              "      </button>\n",
              "      \n",
              "  <style>\n",
              "    .colab-df-container {\n",
              "      display:flex;\n",
              "      flex-wrap:wrap;\n",
              "      gap: 12px;\n",
              "    }\n",
              "\n",
              "    .colab-df-convert {\n",
              "      background-color: #E8F0FE;\n",
              "      border: none;\n",
              "      border-radius: 50%;\n",
              "      cursor: pointer;\n",
              "      display: none;\n",
              "      fill: #1967D2;\n",
              "      height: 32px;\n",
              "      padding: 0 0 0 0;\n",
              "      width: 32px;\n",
              "    }\n",
              "\n",
              "    .colab-df-convert:hover {\n",
              "      background-color: #E2EBFA;\n",
              "      box-shadow: 0px 1px 2px rgba(60, 64, 67, 0.3), 0px 1px 3px 1px rgba(60, 64, 67, 0.15);\n",
              "      fill: #174EA6;\n",
              "    }\n",
              "\n",
              "    [theme=dark] .colab-df-convert {\n",
              "      background-color: #3B4455;\n",
              "      fill: #D2E3FC;\n",
              "    }\n",
              "\n",
              "    [theme=dark] .colab-df-convert:hover {\n",
              "      background-color: #434B5C;\n",
              "      box-shadow: 0px 1px 3px 1px rgba(0, 0, 0, 0.15);\n",
              "      filter: drop-shadow(0px 1px 2px rgba(0, 0, 0, 0.3));\n",
              "      fill: #FFFFFF;\n",
              "    }\n",
              "  </style>\n",
              "\n",
              "      <script>\n",
              "        const buttonEl =\n",
              "          document.querySelector('#df-fce8ed45-36cd-4ee7-8786-f8342e8a4c87 button.colab-df-convert');\n",
              "        buttonEl.style.display =\n",
              "          google.colab.kernel.accessAllowed ? 'block' : 'none';\n",
              "\n",
              "        async function convertToInteractive(key) {\n",
              "          const element = document.querySelector('#df-fce8ed45-36cd-4ee7-8786-f8342e8a4c87');\n",
              "          const dataTable =\n",
              "            await google.colab.kernel.invokeFunction('convertToInteractive',\n",
              "                                                     [key], {});\n",
              "          if (!dataTable) return;\n",
              "\n",
              "          const docLinkHtml = 'Like what you see? Visit the ' +\n",
              "            '<a target=\"_blank\" href=https://colab.research.google.com/notebooks/data_table.ipynb>data table notebook</a>'\n",
              "            + ' to learn more about interactive tables.';\n",
              "          element.innerHTML = '';\n",
              "          dataTable['output_type'] = 'display_data';\n",
              "          await google.colab.output.renderOutput(dataTable, element);\n",
              "          const docLink = document.createElement('div');\n",
              "          docLink.innerHTML = docLinkHtml;\n",
              "          element.appendChild(docLink);\n",
              "        }\n",
              "      </script>\n",
              "    </div>\n",
              "  </div>\n",
              "  "
            ]
          },
          "metadata": {},
          "execution_count": 114
        }
      ]
    },
    {
      "cell_type": "markdown",
      "source": [
        "### Unigram Recommendation System"
      ],
      "metadata": {
        "id": "UtctyCQejM9x"
      }
    },
    {
      "cell_type": "code",
      "source": [
        "\"\"\" \n",
        "corpus = [\n",
        "...     'This is the first document.',\n",
        "...     'This document is the second document.',\n",
        "...     'And this is the third one.',\n",
        "...     'Is this the first document?',\n",
        "... ]\n",
        "that is the corpus style we are aiming for \n",
        "\"\"\"\n",
        "# n_gram = (1,1) \n",
        "n_gram = (2,2) #for bigram\n",
        "import pandas as pd\n",
        "from sklearn.feature_extraction.text import TfidfTransformer, TfidfVectorizer\n",
        "\n",
        "corpus = list(recommendations_df['description'].copy())\n",
        "tfIdfVectorizer=TfidfVectorizer(use_idf=True, ngram_range = n_gram)\n",
        "tfIdf = tfIdfVectorizer.fit_transform(corpus)"
      ],
      "metadata": {
        "id": "OdxCpVHicmxW"
      },
      "execution_count": 115,
      "outputs": []
    },
    {
      "cell_type": "code",
      "source": [
        "print(tfIdf.shape)"
      ],
      "metadata": {
        "colab": {
          "base_uri": "https://localhost:8080/"
        },
        "id": "kxmNFuWoKSWO",
        "outputId": "0f42cd51-cf66-4835-9a73-a687707d6175"
      },
      "execution_count": 116,
      "outputs": [
        {
          "output_type": "stream",
          "name": "stdout",
          "text": [
            "(20000, 998845)\n"
          ]
        }
      ]
    },
    {
      "cell_type": "code",
      "source": [
        "from sklearn.metrics.pairwise import cosine_similarity\n",
        "cosine_sim=cosine_similarity(tfIdf, tfIdf)"
      ],
      "metadata": {
        "id": "WYL32Wd2mSVb"
      },
      "execution_count": 117,
      "outputs": []
    },
    {
      "cell_type": "code",
      "source": [
        "cosine_sim.shape"
      ],
      "metadata": {
        "colab": {
          "base_uri": "https://localhost:8080/"
        },
        "id": "1fca-K-zNOf_",
        "outputId": "dc7faa9c-f68b-43c8-a4be-ce20eb2c6ad9"
      },
      "execution_count": 118,
      "outputs": [
        {
          "output_type": "execute_result",
          "data": {
            "text/plain": [
              "(20000, 20000)"
            ]
          },
          "metadata": {},
          "execution_count": 118
        }
      ]
    },
    {
      "cell_type": "code",
      "source": [
        "cosine_sim_df = pd.DataFrame(cosine_sim, index=recommendations_df['bookId'].values, columns=recommendations_df['bookId'])"
      ],
      "metadata": {
        "id": "JC02Wb-FAmBE"
      },
      "execution_count": 119,
      "outputs": []
    },
    {
      "cell_type": "code",
      "source": [
        "cosine_sim_df"
      ],
      "metadata": {
        "colab": {
          "base_uri": "https://localhost:8080/",
          "height": 574
        },
        "id": "A52cHANzNGKh",
        "outputId": "dcc01a6a-b264-4562-8674-7dc7f046384a"
      },
      "execution_count": 120,
      "outputs": [
        {
          "output_type": "execute_result",
          "data": {
            "text/plain": [
              "bookId                                       2767052-the-hunger-games  \\\n",
              "2767052-the-hunger-games                                     1.000000   \n",
              "2.Harry_Potter_and_the_Order_of_the_Phoenix                  0.004716   \n",
              "2657.To_Kill_a_Mockingbird                                   0.003886   \n",
              "1885.Pride_and_Prejudice                                     0.003670   \n",
              "41865.Twilight                                               0.000000   \n",
              "...                                                               ...   \n",
              "70236.Running_Wild                                           0.000827   \n",
              "36613747-how-to-change-your-mind                             0.002293   \n",
              "36421604-the-other-woman                                     0.003096   \n",
              "29633584-the-protection-of-ren-crown                         0.002068   \n",
              "39218044-small-fry                                           0.002246   \n",
              "\n",
              "bookId                                       2.Harry_Potter_and_the_Order_of_the_Phoenix  \\\n",
              "2767052-the-hunger-games                                                        0.004716   \n",
              "2.Harry_Potter_and_the_Order_of_the_Phoenix                                     1.000000   \n",
              "2657.To_Kill_a_Mockingbird                                                      0.001604   \n",
              "1885.Pride_and_Prejudice                                                        0.001047   \n",
              "41865.Twilight                                                                  0.000000   \n",
              "...                                                                                  ...   \n",
              "70236.Running_Wild                                                              0.001743   \n",
              "36613747-how-to-change-your-mind                                                0.006277   \n",
              "36421604-the-other-woman                                                        0.007982   \n",
              "29633584-the-protection-of-ren-crown                                            0.005476   \n",
              "39218044-small-fry                                                              0.000298   \n",
              "\n",
              "bookId                                       2657.To_Kill_a_Mockingbird  \\\n",
              "2767052-the-hunger-games                                       0.003886   \n",
              "2.Harry_Potter_and_the_Order_of_the_Phoenix                    0.001604   \n",
              "2657.To_Kill_a_Mockingbird                                     1.000000   \n",
              "1885.Pride_and_Prejudice                                       0.005397   \n",
              "41865.Twilight                                                 0.004936   \n",
              "...                                                                 ...   \n",
              "70236.Running_Wild                                             0.000877   \n",
              "36613747-how-to-change-your-mind                               0.010120   \n",
              "36421604-the-other-woman                                       0.001959   \n",
              "29633584-the-protection-of-ren-crown                           0.000000   \n",
              "39218044-small-fry                                             0.005522   \n",
              "\n",
              "bookId                                       1885.Pride_and_Prejudice  \\\n",
              "2767052-the-hunger-games                                     0.003670   \n",
              "2.Harry_Potter_and_the_Order_of_the_Phoenix                  0.001047   \n",
              "2657.To_Kill_a_Mockingbird                                   0.005397   \n",
              "1885.Pride_and_Prejudice                                     1.000000   \n",
              "41865.Twilight                                               0.000000   \n",
              "...                                                               ...   \n",
              "70236.Running_Wild                                           0.000506   \n",
              "36613747-how-to-change-your-mind                             0.001952   \n",
              "36421604-the-other-woman                                     0.002394   \n",
              "29633584-the-protection-of-ren-crown                         0.002694   \n",
              "39218044-small-fry                                           0.000336   \n",
              "\n",
              "bookId                                       41865.Twilight  \\\n",
              "2767052-the-hunger-games                           0.000000   \n",
              "2.Harry_Potter_and_the_Order_of_the_Phoenix        0.000000   \n",
              "2657.To_Kill_a_Mockingbird                         0.004936   \n",
              "1885.Pride_and_Prejudice                           0.000000   \n",
              "41865.Twilight                                     1.000000   \n",
              "...                                                     ...   \n",
              "70236.Running_Wild                                 0.000000   \n",
              "36613747-how-to-change-your-mind                   0.003990   \n",
              "36421604-the-other-woman                           0.000000   \n",
              "29633584-the-protection-of-ren-crown               0.000000   \n",
              "39218044-small-fry                                 0.000000   \n",
              "\n",
              "bookId                                       19063.The_Book_Thief  \\\n",
              "2767052-the-hunger-games                                 0.003695   \n",
              "2.Harry_Potter_and_the_Order_of_the_Phoenix              0.002815   \n",
              "2657.To_Kill_a_Mockingbird                               0.005589   \n",
              "1885.Pride_and_Prejudice                                 0.009858   \n",
              "41865.Twilight                                           0.000000   \n",
              "...                                                           ...   \n",
              "70236.Running_Wild                                       0.000404   \n",
              "36613747-how-to-change-your-mind                         0.002195   \n",
              "36421604-the-other-woman                                 0.008528   \n",
              "29633584-the-protection-of-ren-crown                     0.006244   \n",
              "39218044-small-fry                                       0.004022   \n",
              "\n",
              "bookId                                       170448.Animal_Farm  \\\n",
              "2767052-the-hunger-games                               0.000000   \n",
              "2.Harry_Potter_and_the_Order_of_the_Phoenix            0.005623   \n",
              "2657.To_Kill_a_Mockingbird                             0.016641   \n",
              "1885.Pride_and_Prejudice                               0.022778   \n",
              "41865.Twilight                                         0.000000   \n",
              "...                                                         ...   \n",
              "70236.Running_Wild                                     0.000457   \n",
              "36613747-how-to-change-your-mind                       0.005028   \n",
              "36421604-the-other-woman                               0.002262   \n",
              "29633584-the-protection-of-ren-crown                   0.000273   \n",
              "39218044-small-fry                                     0.002750   \n",
              "\n",
              "bookId                                       11127.The_Chronicles_of_Narnia  \\\n",
              "2767052-the-hunger-games                                           0.002553   \n",
              "2.Harry_Potter_and_the_Order_of_the_Phoenix                        0.008276   \n",
              "2657.To_Kill_a_Mockingbird                                         0.003987   \n",
              "1885.Pride_and_Prejudice                                           0.004623   \n",
              "41865.Twilight                                                     0.002872   \n",
              "...                                                                     ...   \n",
              "70236.Running_Wild                                                 0.004822   \n",
              "36613747-how-to-change-your-mind                                   0.003230   \n",
              "36421604-the-other-woman                                           0.007245   \n",
              "29633584-the-protection-of-ren-crown                               0.001406   \n",
              "39218044-small-fry                                                 0.000000   \n",
              "\n",
              "bookId                                       30.J_R_R_Tolkien_4_Book_Boxed_Set  \\\n",
              "2767052-the-hunger-games                                              0.001895   \n",
              "2.Harry_Potter_and_the_Order_of_the_Phoenix                           0.007057   \n",
              "2657.To_Kill_a_Mockingbird                                            0.006095   \n",
              "1885.Pride_and_Prejudice                                              0.002794   \n",
              "41865.Twilight                                                        0.000000   \n",
              "...                                                                        ...   \n",
              "70236.Running_Wild                                                    0.002861   \n",
              "36613747-how-to-change-your-mind                                      0.004800   \n",
              "36421604-the-other-woman                                              0.011499   \n",
              "29633584-the-protection-of-ren-crown                                  0.001710   \n",
              "39218044-small-fry                                                    0.001453   \n",
              "\n",
              "bookId                                       18405.Gone_with_the_Wind  ...  \\\n",
              "2767052-the-hunger-games                                     0.001030  ...   \n",
              "2.Harry_Potter_and_the_Order_of_the_Phoenix                  0.002171  ...   \n",
              "2657.To_Kill_a_Mockingbird                                   0.001092  ...   \n",
              "1885.Pride_and_Prejudice                                     0.000630  ...   \n",
              "41865.Twilight                                               0.000000  ...   \n",
              "...                                                               ...  ...   \n",
              "70236.Running_Wild                                           0.002524  ...   \n",
              "36613747-how-to-change-your-mind                             0.001419  ...   \n",
              "36421604-the-other-woman                                     0.003266  ...   \n",
              "29633584-the-protection-of-ren-crown                         0.003942  ...   \n",
              "39218044-small-fry                                           0.000000  ...   \n",
              "\n",
              "bookId                                       46006841-becoming-miss-izzy  \\\n",
              "2767052-the-hunger-games                                        0.003131   \n",
              "2.Harry_Potter_and_the_Order_of_the_Phoenix                     0.004088   \n",
              "2657.To_Kill_a_Mockingbird                                      0.000373   \n",
              "1885.Pride_and_Prejudice                                        0.000000   \n",
              "41865.Twilight                                                  0.003017   \n",
              "...                                                                  ...   \n",
              "70236.Running_Wild                                              0.000563   \n",
              "36613747-how-to-change-your-mind                                0.001990   \n",
              "36421604-the-other-woman                                        0.004244   \n",
              "29633584-the-protection-of-ren-crown                            0.007435   \n",
              "39218044-small-fry                                              0.009015   \n",
              "\n",
              "bookId                                       13007738-niv-study-bible-personal-size  \\\n",
              "2767052-the-hunger-games                                                   0.001266   \n",
              "2.Harry_Potter_and_the_Order_of_the_Phoenix                                0.001828   \n",
              "2657.To_Kill_a_Mockingbird                                                 0.001755   \n",
              "1885.Pride_and_Prejudice                                                   0.001276   \n",
              "41865.Twilight                                                             0.000000   \n",
              "...                                                                             ...   \n",
              "70236.Running_Wild                                                         0.001092   \n",
              "36613747-how-to-change-your-mind                                           0.002309   \n",
              "36421604-the-other-woman                                                   0.004479   \n",
              "29633584-the-protection-of-ren-crown                                       0.001189   \n",
              "39218044-small-fry                                                         0.004075   \n",
              "\n",
              "bookId                                       671934.Death_s_Jest_Book  \\\n",
              "2767052-the-hunger-games                                      0.00428   \n",
              "2.Harry_Potter_and_the_Order_of_the_Phoenix                   0.00000   \n",
              "2657.To_Kill_a_Mockingbird                                    0.00000   \n",
              "1885.Pride_and_Prejudice                                      0.00000   \n",
              "41865.Twilight                                                0.00000   \n",
              "...                                                               ...   \n",
              "70236.Running_Wild                                            0.00000   \n",
              "36613747-how-to-change-your-mind                              0.00000   \n",
              "36421604-the-other-woman                                      0.00000   \n",
              "29633584-the-protection-of-ren-crown                          0.00000   \n",
              "39218044-small-fry                                            0.00000   \n",
              "\n",
              "bookId                                       40589790-the-memory-house  \\\n",
              "2767052-the-hunger-games                                      0.007089   \n",
              "2.Harry_Potter_and_the_Order_of_the_Phoenix                   0.000715   \n",
              "2657.To_Kill_a_Mockingbird                                    0.007039   \n",
              "1885.Pride_and_Prejudice                                      0.001650   \n",
              "41865.Twilight                                                0.000000   \n",
              "...                                                                ...   \n",
              "70236.Running_Wild                                            0.002795   \n",
              "36613747-how-to-change-your-mind                              0.003165   \n",
              "36421604-the-other-woman                                      0.011763   \n",
              "29633584-the-protection-of-ren-crown                          0.001226   \n",
              "39218044-small-fry                                            0.010941   \n",
              "\n",
              "bookId                                       22012290-lords-of-the-sith  \\\n",
              "2767052-the-hunger-games                                       0.002840   \n",
              "2.Harry_Potter_and_the_Order_of_the_Phoenix                    0.011476   \n",
              "2657.To_Kill_a_Mockingbird                                     0.002479   \n",
              "1885.Pride_and_Prejudice                                       0.003435   \n",
              "41865.Twilight                                                 0.000000   \n",
              "...                                                                 ...   \n",
              "70236.Running_Wild                                             0.007248   \n",
              "36613747-how-to-change-your-mind                               0.009176   \n",
              "36421604-the-other-woman                                       0.009385   \n",
              "29633584-the-protection-of-ren-crown                           0.001495   \n",
              "39218044-small-fry                                             0.000485   \n",
              "\n",
              "bookId                                       70236.Running_Wild  \\\n",
              "2767052-the-hunger-games                               0.000827   \n",
              "2.Harry_Potter_and_the_Order_of_the_Phoenix            0.001743   \n",
              "2657.To_Kill_a_Mockingbird                             0.000877   \n",
              "1885.Pride_and_Prejudice                               0.000506   \n",
              "41865.Twilight                                         0.000000   \n",
              "...                                                         ...   \n",
              "70236.Running_Wild                                     1.000000   \n",
              "36613747-how-to-change-your-mind                       0.001139   \n",
              "36421604-the-other-woman                               0.002622   \n",
              "29633584-the-protection-of-ren-crown                   0.005057   \n",
              "39218044-small-fry                                     0.000000   \n",
              "\n",
              "bookId                                       36613747-how-to-change-your-mind  \\\n",
              "2767052-the-hunger-games                                             0.002293   \n",
              "2.Harry_Potter_and_the_Order_of_the_Phoenix                          0.006277   \n",
              "2657.To_Kill_a_Mockingbird                                           0.010120   \n",
              "1885.Pride_and_Prejudice                                             0.001952   \n",
              "41865.Twilight                                                       0.003990   \n",
              "...                                                                       ...   \n",
              "70236.Running_Wild                                                   0.001139   \n",
              "36613747-how-to-change-your-mind                                     1.000000   \n",
              "36421604-the-other-woman                                             0.006922   \n",
              "29633584-the-protection-of-ren-crown                                 0.004606   \n",
              "39218044-small-fry                                                   0.002669   \n",
              "\n",
              "bookId                                       36421604-the-other-woman  \\\n",
              "2767052-the-hunger-games                                     0.003096   \n",
              "2.Harry_Potter_and_the_Order_of_the_Phoenix                  0.007982   \n",
              "2657.To_Kill_a_Mockingbird                                   0.001959   \n",
              "1885.Pride_and_Prejudice                                     0.002394   \n",
              "41865.Twilight                                               0.000000   \n",
              "...                                                               ...   \n",
              "70236.Running_Wild                                           0.002622   \n",
              "36613747-how-to-change-your-mind                             0.006922   \n",
              "36421604-the-other-woman                                     1.000000   \n",
              "29633584-the-protection-of-ren-crown                         0.002295   \n",
              "39218044-small-fry                                           0.003093   \n",
              "\n",
              "bookId                                       29633584-the-protection-of-ren-crown  \\\n",
              "2767052-the-hunger-games                                                 0.002068   \n",
              "2.Harry_Potter_and_the_Order_of_the_Phoenix                              0.005476   \n",
              "2657.To_Kill_a_Mockingbird                                               0.000000   \n",
              "1885.Pride_and_Prejudice                                                 0.002694   \n",
              "41865.Twilight                                                           0.000000   \n",
              "...                                                                           ...   \n",
              "70236.Running_Wild                                                       0.005057   \n",
              "36613747-how-to-change-your-mind                                         0.004606   \n",
              "36421604-the-other-woman                                                 0.002295   \n",
              "29633584-the-protection-of-ren-crown                                     1.000000   \n",
              "39218044-small-fry                                                       0.005763   \n",
              "\n",
              "bookId                                       39218044-small-fry  \n",
              "2767052-the-hunger-games                               0.002246  \n",
              "2.Harry_Potter_and_the_Order_of_the_Phoenix            0.000298  \n",
              "2657.To_Kill_a_Mockingbird                             0.005522  \n",
              "1885.Pride_and_Prejudice                               0.000336  \n",
              "41865.Twilight                                         0.000000  \n",
              "...                                                         ...  \n",
              "70236.Running_Wild                                     0.000000  \n",
              "36613747-how-to-change-your-mind                       0.002669  \n",
              "36421604-the-other-woman                               0.003093  \n",
              "29633584-the-protection-of-ren-crown                   0.005763  \n",
              "39218044-small-fry                                     1.000000  \n",
              "\n",
              "[20000 rows x 20000 columns]"
            ],
            "text/html": [
              "\n",
              "  <div id=\"df-b7bf5c25-78a6-4d92-9376-495aec87da30\">\n",
              "    <div class=\"colab-df-container\">\n",
              "      <div>\n",
              "<style scoped>\n",
              "    .dataframe tbody tr th:only-of-type {\n",
              "        vertical-align: middle;\n",
              "    }\n",
              "\n",
              "    .dataframe tbody tr th {\n",
              "        vertical-align: top;\n",
              "    }\n",
              "\n",
              "    .dataframe thead th {\n",
              "        text-align: right;\n",
              "    }\n",
              "</style>\n",
              "<table border=\"1\" class=\"dataframe\">\n",
              "  <thead>\n",
              "    <tr style=\"text-align: right;\">\n",
              "      <th>bookId</th>\n",
              "      <th>2767052-the-hunger-games</th>\n",
              "      <th>2.Harry_Potter_and_the_Order_of_the_Phoenix</th>\n",
              "      <th>2657.To_Kill_a_Mockingbird</th>\n",
              "      <th>1885.Pride_and_Prejudice</th>\n",
              "      <th>41865.Twilight</th>\n",
              "      <th>19063.The_Book_Thief</th>\n",
              "      <th>170448.Animal_Farm</th>\n",
              "      <th>11127.The_Chronicles_of_Narnia</th>\n",
              "      <th>30.J_R_R_Tolkien_4_Book_Boxed_Set</th>\n",
              "      <th>18405.Gone_with_the_Wind</th>\n",
              "      <th>...</th>\n",
              "      <th>46006841-becoming-miss-izzy</th>\n",
              "      <th>13007738-niv-study-bible-personal-size</th>\n",
              "      <th>671934.Death_s_Jest_Book</th>\n",
              "      <th>40589790-the-memory-house</th>\n",
              "      <th>22012290-lords-of-the-sith</th>\n",
              "      <th>70236.Running_Wild</th>\n",
              "      <th>36613747-how-to-change-your-mind</th>\n",
              "      <th>36421604-the-other-woman</th>\n",
              "      <th>29633584-the-protection-of-ren-crown</th>\n",
              "      <th>39218044-small-fry</th>\n",
              "    </tr>\n",
              "  </thead>\n",
              "  <tbody>\n",
              "    <tr>\n",
              "      <th>2767052-the-hunger-games</th>\n",
              "      <td>1.000000</td>\n",
              "      <td>0.004716</td>\n",
              "      <td>0.003886</td>\n",
              "      <td>0.003670</td>\n",
              "      <td>0.000000</td>\n",
              "      <td>0.003695</td>\n",
              "      <td>0.000000</td>\n",
              "      <td>0.002553</td>\n",
              "      <td>0.001895</td>\n",
              "      <td>0.001030</td>\n",
              "      <td>...</td>\n",
              "      <td>0.003131</td>\n",
              "      <td>0.001266</td>\n",
              "      <td>0.00428</td>\n",
              "      <td>0.007089</td>\n",
              "      <td>0.002840</td>\n",
              "      <td>0.000827</td>\n",
              "      <td>0.002293</td>\n",
              "      <td>0.003096</td>\n",
              "      <td>0.002068</td>\n",
              "      <td>0.002246</td>\n",
              "    </tr>\n",
              "    <tr>\n",
              "      <th>2.Harry_Potter_and_the_Order_of_the_Phoenix</th>\n",
              "      <td>0.004716</td>\n",
              "      <td>1.000000</td>\n",
              "      <td>0.001604</td>\n",
              "      <td>0.001047</td>\n",
              "      <td>0.000000</td>\n",
              "      <td>0.002815</td>\n",
              "      <td>0.005623</td>\n",
              "      <td>0.008276</td>\n",
              "      <td>0.007057</td>\n",
              "      <td>0.002171</td>\n",
              "      <td>...</td>\n",
              "      <td>0.004088</td>\n",
              "      <td>0.001828</td>\n",
              "      <td>0.00000</td>\n",
              "      <td>0.000715</td>\n",
              "      <td>0.011476</td>\n",
              "      <td>0.001743</td>\n",
              "      <td>0.006277</td>\n",
              "      <td>0.007982</td>\n",
              "      <td>0.005476</td>\n",
              "      <td>0.000298</td>\n",
              "    </tr>\n",
              "    <tr>\n",
              "      <th>2657.To_Kill_a_Mockingbird</th>\n",
              "      <td>0.003886</td>\n",
              "      <td>0.001604</td>\n",
              "      <td>1.000000</td>\n",
              "      <td>0.005397</td>\n",
              "      <td>0.004936</td>\n",
              "      <td>0.005589</td>\n",
              "      <td>0.016641</td>\n",
              "      <td>0.003987</td>\n",
              "      <td>0.006095</td>\n",
              "      <td>0.001092</td>\n",
              "      <td>...</td>\n",
              "      <td>0.000373</td>\n",
              "      <td>0.001755</td>\n",
              "      <td>0.00000</td>\n",
              "      <td>0.007039</td>\n",
              "      <td>0.002479</td>\n",
              "      <td>0.000877</td>\n",
              "      <td>0.010120</td>\n",
              "      <td>0.001959</td>\n",
              "      <td>0.000000</td>\n",
              "      <td>0.005522</td>\n",
              "    </tr>\n",
              "    <tr>\n",
              "      <th>1885.Pride_and_Prejudice</th>\n",
              "      <td>0.003670</td>\n",
              "      <td>0.001047</td>\n",
              "      <td>0.005397</td>\n",
              "      <td>1.000000</td>\n",
              "      <td>0.000000</td>\n",
              "      <td>0.009858</td>\n",
              "      <td>0.022778</td>\n",
              "      <td>0.004623</td>\n",
              "      <td>0.002794</td>\n",
              "      <td>0.000630</td>\n",
              "      <td>...</td>\n",
              "      <td>0.000000</td>\n",
              "      <td>0.001276</td>\n",
              "      <td>0.00000</td>\n",
              "      <td>0.001650</td>\n",
              "      <td>0.003435</td>\n",
              "      <td>0.000506</td>\n",
              "      <td>0.001952</td>\n",
              "      <td>0.002394</td>\n",
              "      <td>0.002694</td>\n",
              "      <td>0.000336</td>\n",
              "    </tr>\n",
              "    <tr>\n",
              "      <th>41865.Twilight</th>\n",
              "      <td>0.000000</td>\n",
              "      <td>0.000000</td>\n",
              "      <td>0.004936</td>\n",
              "      <td>0.000000</td>\n",
              "      <td>1.000000</td>\n",
              "      <td>0.000000</td>\n",
              "      <td>0.000000</td>\n",
              "      <td>0.002872</td>\n",
              "      <td>0.000000</td>\n",
              "      <td>0.000000</td>\n",
              "      <td>...</td>\n",
              "      <td>0.003017</td>\n",
              "      <td>0.000000</td>\n",
              "      <td>0.00000</td>\n",
              "      <td>0.000000</td>\n",
              "      <td>0.000000</td>\n",
              "      <td>0.000000</td>\n",
              "      <td>0.003990</td>\n",
              "      <td>0.000000</td>\n",
              "      <td>0.000000</td>\n",
              "      <td>0.000000</td>\n",
              "    </tr>\n",
              "    <tr>\n",
              "      <th>...</th>\n",
              "      <td>...</td>\n",
              "      <td>...</td>\n",
              "      <td>...</td>\n",
              "      <td>...</td>\n",
              "      <td>...</td>\n",
              "      <td>...</td>\n",
              "      <td>...</td>\n",
              "      <td>...</td>\n",
              "      <td>...</td>\n",
              "      <td>...</td>\n",
              "      <td>...</td>\n",
              "      <td>...</td>\n",
              "      <td>...</td>\n",
              "      <td>...</td>\n",
              "      <td>...</td>\n",
              "      <td>...</td>\n",
              "      <td>...</td>\n",
              "      <td>...</td>\n",
              "      <td>...</td>\n",
              "      <td>...</td>\n",
              "      <td>...</td>\n",
              "    </tr>\n",
              "    <tr>\n",
              "      <th>70236.Running_Wild</th>\n",
              "      <td>0.000827</td>\n",
              "      <td>0.001743</td>\n",
              "      <td>0.000877</td>\n",
              "      <td>0.000506</td>\n",
              "      <td>0.000000</td>\n",
              "      <td>0.000404</td>\n",
              "      <td>0.000457</td>\n",
              "      <td>0.004822</td>\n",
              "      <td>0.002861</td>\n",
              "      <td>0.002524</td>\n",
              "      <td>...</td>\n",
              "      <td>0.000563</td>\n",
              "      <td>0.001092</td>\n",
              "      <td>0.00000</td>\n",
              "      <td>0.002795</td>\n",
              "      <td>0.007248</td>\n",
              "      <td>1.000000</td>\n",
              "      <td>0.001139</td>\n",
              "      <td>0.002622</td>\n",
              "      <td>0.005057</td>\n",
              "      <td>0.000000</td>\n",
              "    </tr>\n",
              "    <tr>\n",
              "      <th>36613747-how-to-change-your-mind</th>\n",
              "      <td>0.002293</td>\n",
              "      <td>0.006277</td>\n",
              "      <td>0.010120</td>\n",
              "      <td>0.001952</td>\n",
              "      <td>0.003990</td>\n",
              "      <td>0.002195</td>\n",
              "      <td>0.005028</td>\n",
              "      <td>0.003230</td>\n",
              "      <td>0.004800</td>\n",
              "      <td>0.001419</td>\n",
              "      <td>...</td>\n",
              "      <td>0.001990</td>\n",
              "      <td>0.002309</td>\n",
              "      <td>0.00000</td>\n",
              "      <td>0.003165</td>\n",
              "      <td>0.009176</td>\n",
              "      <td>0.001139</td>\n",
              "      <td>1.000000</td>\n",
              "      <td>0.006922</td>\n",
              "      <td>0.004606</td>\n",
              "      <td>0.002669</td>\n",
              "    </tr>\n",
              "    <tr>\n",
              "      <th>36421604-the-other-woman</th>\n",
              "      <td>0.003096</td>\n",
              "      <td>0.007982</td>\n",
              "      <td>0.001959</td>\n",
              "      <td>0.002394</td>\n",
              "      <td>0.000000</td>\n",
              "      <td>0.008528</td>\n",
              "      <td>0.002262</td>\n",
              "      <td>0.007245</td>\n",
              "      <td>0.011499</td>\n",
              "      <td>0.003266</td>\n",
              "      <td>...</td>\n",
              "      <td>0.004244</td>\n",
              "      <td>0.004479</td>\n",
              "      <td>0.00000</td>\n",
              "      <td>0.011763</td>\n",
              "      <td>0.009385</td>\n",
              "      <td>0.002622</td>\n",
              "      <td>0.006922</td>\n",
              "      <td>1.000000</td>\n",
              "      <td>0.002295</td>\n",
              "      <td>0.003093</td>\n",
              "    </tr>\n",
              "    <tr>\n",
              "      <th>29633584-the-protection-of-ren-crown</th>\n",
              "      <td>0.002068</td>\n",
              "      <td>0.005476</td>\n",
              "      <td>0.000000</td>\n",
              "      <td>0.002694</td>\n",
              "      <td>0.000000</td>\n",
              "      <td>0.006244</td>\n",
              "      <td>0.000273</td>\n",
              "      <td>0.001406</td>\n",
              "      <td>0.001710</td>\n",
              "      <td>0.003942</td>\n",
              "      <td>...</td>\n",
              "      <td>0.007435</td>\n",
              "      <td>0.001189</td>\n",
              "      <td>0.00000</td>\n",
              "      <td>0.001226</td>\n",
              "      <td>0.001495</td>\n",
              "      <td>0.005057</td>\n",
              "      <td>0.004606</td>\n",
              "      <td>0.002295</td>\n",
              "      <td>1.000000</td>\n",
              "      <td>0.005763</td>\n",
              "    </tr>\n",
              "    <tr>\n",
              "      <th>39218044-small-fry</th>\n",
              "      <td>0.002246</td>\n",
              "      <td>0.000298</td>\n",
              "      <td>0.005522</td>\n",
              "      <td>0.000336</td>\n",
              "      <td>0.000000</td>\n",
              "      <td>0.004022</td>\n",
              "      <td>0.002750</td>\n",
              "      <td>0.000000</td>\n",
              "      <td>0.001453</td>\n",
              "      <td>0.000000</td>\n",
              "      <td>...</td>\n",
              "      <td>0.009015</td>\n",
              "      <td>0.004075</td>\n",
              "      <td>0.00000</td>\n",
              "      <td>0.010941</td>\n",
              "      <td>0.000485</td>\n",
              "      <td>0.000000</td>\n",
              "      <td>0.002669</td>\n",
              "      <td>0.003093</td>\n",
              "      <td>0.005763</td>\n",
              "      <td>1.000000</td>\n",
              "    </tr>\n",
              "  </tbody>\n",
              "</table>\n",
              "<p>20000 rows × 20000 columns</p>\n",
              "</div>\n",
              "      <button class=\"colab-df-convert\" onclick=\"convertToInteractive('df-b7bf5c25-78a6-4d92-9376-495aec87da30')\"\n",
              "              title=\"Convert this dataframe to an interactive table.\"\n",
              "              style=\"display:none;\">\n",
              "        \n",
              "  <svg xmlns=\"http://www.w3.org/2000/svg\" height=\"24px\"viewBox=\"0 0 24 24\"\n",
              "       width=\"24px\">\n",
              "    <path d=\"M0 0h24v24H0V0z\" fill=\"none\"/>\n",
              "    <path d=\"M18.56 5.44l.94 2.06.94-2.06 2.06-.94-2.06-.94-.94-2.06-.94 2.06-2.06.94zm-11 1L8.5 8.5l.94-2.06 2.06-.94-2.06-.94L8.5 2.5l-.94 2.06-2.06.94zm10 10l.94 2.06.94-2.06 2.06-.94-2.06-.94-.94-2.06-.94 2.06-2.06.94z\"/><path d=\"M17.41 7.96l-1.37-1.37c-.4-.4-.92-.59-1.43-.59-.52 0-1.04.2-1.43.59L10.3 9.45l-7.72 7.72c-.78.78-.78 2.05 0 2.83L4 21.41c.39.39.9.59 1.41.59.51 0 1.02-.2 1.41-.59l7.78-7.78 2.81-2.81c.8-.78.8-2.07 0-2.86zM5.41 20L4 18.59l7.72-7.72 1.47 1.35L5.41 20z\"/>\n",
              "  </svg>\n",
              "      </button>\n",
              "      \n",
              "  <style>\n",
              "    .colab-df-container {\n",
              "      display:flex;\n",
              "      flex-wrap:wrap;\n",
              "      gap: 12px;\n",
              "    }\n",
              "\n",
              "    .colab-df-convert {\n",
              "      background-color: #E8F0FE;\n",
              "      border: none;\n",
              "      border-radius: 50%;\n",
              "      cursor: pointer;\n",
              "      display: none;\n",
              "      fill: #1967D2;\n",
              "      height: 32px;\n",
              "      padding: 0 0 0 0;\n",
              "      width: 32px;\n",
              "    }\n",
              "\n",
              "    .colab-df-convert:hover {\n",
              "      background-color: #E2EBFA;\n",
              "      box-shadow: 0px 1px 2px rgba(60, 64, 67, 0.3), 0px 1px 3px 1px rgba(60, 64, 67, 0.15);\n",
              "      fill: #174EA6;\n",
              "    }\n",
              "\n",
              "    [theme=dark] .colab-df-convert {\n",
              "      background-color: #3B4455;\n",
              "      fill: #D2E3FC;\n",
              "    }\n",
              "\n",
              "    [theme=dark] .colab-df-convert:hover {\n",
              "      background-color: #434B5C;\n",
              "      box-shadow: 0px 1px 3px 1px rgba(0, 0, 0, 0.15);\n",
              "      filter: drop-shadow(0px 1px 2px rgba(0, 0, 0, 0.3));\n",
              "      fill: #FFFFFF;\n",
              "    }\n",
              "  </style>\n",
              "\n",
              "      <script>\n",
              "        const buttonEl =\n",
              "          document.querySelector('#df-b7bf5c25-78a6-4d92-9376-495aec87da30 button.colab-df-convert');\n",
              "        buttonEl.style.display =\n",
              "          google.colab.kernel.accessAllowed ? 'block' : 'none';\n",
              "\n",
              "        async function convertToInteractive(key) {\n",
              "          const element = document.querySelector('#df-b7bf5c25-78a6-4d92-9376-495aec87da30');\n",
              "          const dataTable =\n",
              "            await google.colab.kernel.invokeFunction('convertToInteractive',\n",
              "                                                     [key], {});\n",
              "          if (!dataTable) return;\n",
              "\n",
              "          const docLinkHtml = 'Like what you see? Visit the ' +\n",
              "            '<a target=\"_blank\" href=https://colab.research.google.com/notebooks/data_table.ipynb>data table notebook</a>'\n",
              "            + ' to learn more about interactive tables.';\n",
              "          element.innerHTML = '';\n",
              "          dataTable['output_type'] = 'display_data';\n",
              "          await google.colab.output.renderOutput(dataTable, element);\n",
              "          const docLink = document.createElement('div');\n",
              "          docLink.innerHTML = docLinkHtml;\n",
              "          element.appendChild(docLink);\n",
              "        }\n",
              "      </script>\n",
              "    </div>\n",
              "  </div>\n",
              "  "
            ]
          },
          "metadata": {},
          "execution_count": 120
        }
      ]
    },
    {
      "cell_type": "code",
      "source": [
        "cosine_sim_df.iloc[0]"
      ],
      "metadata": {
        "colab": {
          "base_uri": "https://localhost:8080/"
        },
        "id": "xJMk6AFvSjgv",
        "outputId": "97aa2321-5415-4b21-a899-12bc12212e91"
      },
      "execution_count": 121,
      "outputs": [
        {
          "output_type": "execute_result",
          "data": {
            "text/plain": [
              "bookId\n",
              "2767052-the-hunger-games                       1.000000\n",
              "2.Harry_Potter_and_the_Order_of_the_Phoenix    0.004716\n",
              "2657.To_Kill_a_Mockingbird                     0.003886\n",
              "1885.Pride_and_Prejudice                       0.003670\n",
              "41865.Twilight                                 0.000000\n",
              "                                                 ...   \n",
              "70236.Running_Wild                             0.000827\n",
              "36613747-how-to-change-your-mind               0.002293\n",
              "36421604-the-other-woman                       0.003096\n",
              "29633584-the-protection-of-ren-crown           0.002068\n",
              "39218044-small-fry                             0.002246\n",
              "Name: 2767052-the-hunger-games, Length: 20000, dtype: float64"
            ]
          },
          "metadata": {},
          "execution_count": 121
        }
      ]
    },
    {
      "cell_type": "code",
      "source": [
        "cosine_sim_df_top_100 = cosine_sim_df.apply(lambda x: x.nlargest(100).index.values)"
      ],
      "metadata": {
        "id": "Hy6SOjaUtbJ6"
      },
      "execution_count": 122,
      "outputs": []
    },
    {
      "cell_type": "code",
      "source": [
        "cosine_sim_df_top_100.head()"
      ],
      "metadata": {
        "colab": {
          "base_uri": "https://localhost:8080/",
          "height": 577
        },
        "id": "VSL2pkMvx3RW",
        "outputId": "a1f5d452-44af-4ce2-e0d8-44c939e70fc5"
      },
      "execution_count": 123,
      "outputs": [
        {
          "output_type": "execute_result",
          "data": {
            "text/plain": [
              "bookId                 2767052-the-hunger-games  \\\n",
              "0                      2767052-the-hunger-games   \n",
              "1                         20349441-sampler-only   \n",
              "2                            7260188-mockingjay   \n",
              "3       7938275-the-hunger-games-trilogy-boxset   \n",
              "4                         6148028-catching-fire   \n",
              "\n",
              "bookId  2.Harry_Potter_and_the_Order_of_the_Phoenix  \\\n",
              "0       2.Harry_Potter_and_the_Order_of_the_Phoenix   \n",
              "1        5.Harry_Potter_and_the_Prisoner_of_Azkaban   \n",
              "2                        10.Harry_Potter_Collection   \n",
              "3                                     65112.The_End   \n",
              "4                           34330645-the-naturalist   \n",
              "\n",
              "bookId      2657.To_Kill_a_Mockingbird  \\\n",
              "0           2657.To_Kill_a_Mockingbird   \n",
              "1           24817626-go-set-a-watchman   \n",
              "2                  17369334-the-search   \n",
              "3       576666._And_Ladies_of_the_Club   \n",
              "4                      66414.Gitanjali   \n",
              "\n",
              "bookId                 1885.Pride_and_Prejudice  \\\n",
              "0                      1885.Pride_and_Prejudice   \n",
              "1       5899779-pride-and-prejudice-and-zombies   \n",
              "2             74788.Mr_Darcy_Presents_His_Bride   \n",
              "3                        37562415-broken-circle   \n",
              "4                        99297.Mr_Darcy_s_Diary   \n",
              "\n",
              "bookId                                 41865.Twilight  \\\n",
              "0                                      41865.Twilight   \n",
              "1                                  6638377-nightlight   \n",
              "2                      690926.The_Twilight_Collection   \n",
              "3                    26860475-twilight-life-and-death   \n",
              "4       8726744-the-twilight-saga-complete-collection   \n",
              "\n",
              "bookId          19063.The_Book_Thief           170448.Animal_Farm  \\\n",
              "0               19063.The_Book_Thief           170448.Animal_Farm   \n",
              "1       2165.The_Old_Man_and_the_Sea         22842304-kerri-s-war   \n",
              "2            17333230-the-luminaries  43325.Nothing_Lasts_Forever   \n",
              "3        80369.Discipline_and_Punish   42670801-the-speed-of-life   \n",
              "4                    42932.Whirlwind        5472.Animal_Farm_1984   \n",
              "\n",
              "bookId                     11127.The_Chronicles_of_Narnia  \\\n",
              "0                          11127.The_Chronicles_of_Narnia   \n",
              "1                                    17915542-netherworld   \n",
              "2       55792.The_Magician_s_Nephew_The_Lion_The_Witch...   \n",
              "3                             1781673.The_First_Judgement   \n",
              "4                                   17033173-a-pale-horse   \n",
              "\n",
              "bookId                  30.J_R_R_Tolkien_4_Book_Boxed_Set  \\\n",
              "0                       30.J_R_R_Tolkien_4_Book_Boxed_Set   \n",
              "1                                33.The_Lord_of_the_Rings   \n",
              "2                            17157681-the-hobbit-part-one   \n",
              "3                                    15241.The_Two_Towers   \n",
              "4       7329.Unfinished_Tales_of_N_menor_and_Middle_Earth   \n",
              "\n",
              "bookId            18405.Gone_with_the_Wind  ...  \\\n",
              "0                 18405.Gone_with_the_Wind  ...   \n",
              "1       11277218-i-am-half-sick-of-shadows  ...   \n",
              "2                          18309803-unmade  ...   \n",
              "3            1503274.Rhett_Butler_s_People  ...   \n",
              "4           21947191-filthy-beautiful-lies  ...   \n",
              "\n",
              "bookId      46006841-becoming-miss-izzy  \\\n",
              "0           46006841-becoming-miss-izzy   \n",
              "1               347151.Understood_Betsy   \n",
              "2         1009305.Thank_You_Lucky_Stars   \n",
              "3       15746.One_Door_Away_from_Heaven   \n",
              "4          3427390-sentence-of-marriage   \n",
              "\n",
              "bookId  13007738-niv-study-bible-personal-size  \\\n",
              "0       13007738-niv-study-bible-personal-size   \n",
              "1                            20749.Study_Bible   \n",
              "2                      5031805-esv-study-bible   \n",
              "3                             53948.Holy_Bible   \n",
              "4                     23473570-kjv-study-bible   \n",
              "\n",
              "bookId               671934.Death_s_Jest_Book  40589790-the-memory-house  \\\n",
              "0                    671934.Death_s_Jest_Book  40589790-the-memory-house   \n",
              "1            6936382-anna-and-the-french-kiss        799158.Fool_Me_Once   \n",
              "2               44109461-the-dark-web-murders         9712492-providence   \n",
              "3       4453371-kitty-and-the-dead-man-s-hand      59.The_Changeling_Sea   \n",
              "4                         2054504.The_Outcast         17408922-sacrifice   \n",
              "\n",
              "bookId   22012290-lords-of-the-sith             70236.Running_Wild  \\\n",
              "0        22012290-lords-of-the-sith             70236.Running_Wild   \n",
              "1           11099729-darth-plagueis  36223860-artificial-condition   \n",
              "2       40604754-heir-to-the-empire       9317452-rivers-of-london   \n",
              "3               1347837.Rule_of_Two          2224813.The_Survivors   \n",
              "4              359826.The_Followers          49353.The_Last_Coyote   \n",
              "\n",
              "bookId  36613747-how-to-change-your-mind  36421604-the-other-woman  \\\n",
              "0       36613747-how-to-change-your-mind  36421604-the-other-woman   \n",
              "1                 51660.Food_of_the_Gods   31371230-house-of-spies   \n",
              "2        17978489-the-future-of-the-mind            17607716-ruins   \n",
              "3                 6037263-the-esp-enigma   93802.A_Death_in_Vienna   \n",
              "4                     41818.Robot_Dreams       93801.The_Confessor   \n",
              "\n",
              "bookId  29633584-the-protection-of-ren-crown           39218044-small-fry  \n",
              "0       29633584-the-protection-of-ren-crown           39218044-small-fry  \n",
              "1        24740030-the-awakening-of-ren-crown  9681425-jim-butcher-box-set  \n",
              "2                            20911450-seeker     6216670-so-not-happening  \n",
              "3                    42594754-love-by-chance        6400090-the-last-song  \n",
              "4                  114122.The_Circle_trilogy          799158.Fool_Me_Once  \n",
              "\n",
              "[5 rows x 20000 columns]"
            ],
            "text/html": [
              "\n",
              "  <div id=\"df-d343ee1c-4353-49e2-bf42-5ae8d0ca5a10\">\n",
              "    <div class=\"colab-df-container\">\n",
              "      <div>\n",
              "<style scoped>\n",
              "    .dataframe tbody tr th:only-of-type {\n",
              "        vertical-align: middle;\n",
              "    }\n",
              "\n",
              "    .dataframe tbody tr th {\n",
              "        vertical-align: top;\n",
              "    }\n",
              "\n",
              "    .dataframe thead th {\n",
              "        text-align: right;\n",
              "    }\n",
              "</style>\n",
              "<table border=\"1\" class=\"dataframe\">\n",
              "  <thead>\n",
              "    <tr style=\"text-align: right;\">\n",
              "      <th>bookId</th>\n",
              "      <th>2767052-the-hunger-games</th>\n",
              "      <th>2.Harry_Potter_and_the_Order_of_the_Phoenix</th>\n",
              "      <th>2657.To_Kill_a_Mockingbird</th>\n",
              "      <th>1885.Pride_and_Prejudice</th>\n",
              "      <th>41865.Twilight</th>\n",
              "      <th>19063.The_Book_Thief</th>\n",
              "      <th>170448.Animal_Farm</th>\n",
              "      <th>11127.The_Chronicles_of_Narnia</th>\n",
              "      <th>30.J_R_R_Tolkien_4_Book_Boxed_Set</th>\n",
              "      <th>18405.Gone_with_the_Wind</th>\n",
              "      <th>...</th>\n",
              "      <th>46006841-becoming-miss-izzy</th>\n",
              "      <th>13007738-niv-study-bible-personal-size</th>\n",
              "      <th>671934.Death_s_Jest_Book</th>\n",
              "      <th>40589790-the-memory-house</th>\n",
              "      <th>22012290-lords-of-the-sith</th>\n",
              "      <th>70236.Running_Wild</th>\n",
              "      <th>36613747-how-to-change-your-mind</th>\n",
              "      <th>36421604-the-other-woman</th>\n",
              "      <th>29633584-the-protection-of-ren-crown</th>\n",
              "      <th>39218044-small-fry</th>\n",
              "    </tr>\n",
              "  </thead>\n",
              "  <tbody>\n",
              "    <tr>\n",
              "      <th>0</th>\n",
              "      <td>2767052-the-hunger-games</td>\n",
              "      <td>2.Harry_Potter_and_the_Order_of_the_Phoenix</td>\n",
              "      <td>2657.To_Kill_a_Mockingbird</td>\n",
              "      <td>1885.Pride_and_Prejudice</td>\n",
              "      <td>41865.Twilight</td>\n",
              "      <td>19063.The_Book_Thief</td>\n",
              "      <td>170448.Animal_Farm</td>\n",
              "      <td>11127.The_Chronicles_of_Narnia</td>\n",
              "      <td>30.J_R_R_Tolkien_4_Book_Boxed_Set</td>\n",
              "      <td>18405.Gone_with_the_Wind</td>\n",
              "      <td>...</td>\n",
              "      <td>46006841-becoming-miss-izzy</td>\n",
              "      <td>13007738-niv-study-bible-personal-size</td>\n",
              "      <td>671934.Death_s_Jest_Book</td>\n",
              "      <td>40589790-the-memory-house</td>\n",
              "      <td>22012290-lords-of-the-sith</td>\n",
              "      <td>70236.Running_Wild</td>\n",
              "      <td>36613747-how-to-change-your-mind</td>\n",
              "      <td>36421604-the-other-woman</td>\n",
              "      <td>29633584-the-protection-of-ren-crown</td>\n",
              "      <td>39218044-small-fry</td>\n",
              "    </tr>\n",
              "    <tr>\n",
              "      <th>1</th>\n",
              "      <td>20349441-sampler-only</td>\n",
              "      <td>5.Harry_Potter_and_the_Prisoner_of_Azkaban</td>\n",
              "      <td>24817626-go-set-a-watchman</td>\n",
              "      <td>5899779-pride-and-prejudice-and-zombies</td>\n",
              "      <td>6638377-nightlight</td>\n",
              "      <td>2165.The_Old_Man_and_the_Sea</td>\n",
              "      <td>22842304-kerri-s-war</td>\n",
              "      <td>17915542-netherworld</td>\n",
              "      <td>33.The_Lord_of_the_Rings</td>\n",
              "      <td>11277218-i-am-half-sick-of-shadows</td>\n",
              "      <td>...</td>\n",
              "      <td>347151.Understood_Betsy</td>\n",
              "      <td>20749.Study_Bible</td>\n",
              "      <td>6936382-anna-and-the-french-kiss</td>\n",
              "      <td>799158.Fool_Me_Once</td>\n",
              "      <td>11099729-darth-plagueis</td>\n",
              "      <td>36223860-artificial-condition</td>\n",
              "      <td>51660.Food_of_the_Gods</td>\n",
              "      <td>31371230-house-of-spies</td>\n",
              "      <td>24740030-the-awakening-of-ren-crown</td>\n",
              "      <td>9681425-jim-butcher-box-set</td>\n",
              "    </tr>\n",
              "    <tr>\n",
              "      <th>2</th>\n",
              "      <td>7260188-mockingjay</td>\n",
              "      <td>10.Harry_Potter_Collection</td>\n",
              "      <td>17369334-the-search</td>\n",
              "      <td>74788.Mr_Darcy_Presents_His_Bride</td>\n",
              "      <td>690926.The_Twilight_Collection</td>\n",
              "      <td>17333230-the-luminaries</td>\n",
              "      <td>43325.Nothing_Lasts_Forever</td>\n",
              "      <td>55792.The_Magician_s_Nephew_The_Lion_The_Witch...</td>\n",
              "      <td>17157681-the-hobbit-part-one</td>\n",
              "      <td>18309803-unmade</td>\n",
              "      <td>...</td>\n",
              "      <td>1009305.Thank_You_Lucky_Stars</td>\n",
              "      <td>5031805-esv-study-bible</td>\n",
              "      <td>44109461-the-dark-web-murders</td>\n",
              "      <td>9712492-providence</td>\n",
              "      <td>40604754-heir-to-the-empire</td>\n",
              "      <td>9317452-rivers-of-london</td>\n",
              "      <td>17978489-the-future-of-the-mind</td>\n",
              "      <td>17607716-ruins</td>\n",
              "      <td>20911450-seeker</td>\n",
              "      <td>6216670-so-not-happening</td>\n",
              "    </tr>\n",
              "    <tr>\n",
              "      <th>3</th>\n",
              "      <td>7938275-the-hunger-games-trilogy-boxset</td>\n",
              "      <td>65112.The_End</td>\n",
              "      <td>576666._And_Ladies_of_the_Club</td>\n",
              "      <td>37562415-broken-circle</td>\n",
              "      <td>26860475-twilight-life-and-death</td>\n",
              "      <td>80369.Discipline_and_Punish</td>\n",
              "      <td>42670801-the-speed-of-life</td>\n",
              "      <td>1781673.The_First_Judgement</td>\n",
              "      <td>15241.The_Two_Towers</td>\n",
              "      <td>1503274.Rhett_Butler_s_People</td>\n",
              "      <td>...</td>\n",
              "      <td>15746.One_Door_Away_from_Heaven</td>\n",
              "      <td>53948.Holy_Bible</td>\n",
              "      <td>4453371-kitty-and-the-dead-man-s-hand</td>\n",
              "      <td>59.The_Changeling_Sea</td>\n",
              "      <td>1347837.Rule_of_Two</td>\n",
              "      <td>2224813.The_Survivors</td>\n",
              "      <td>6037263-the-esp-enigma</td>\n",
              "      <td>93802.A_Death_in_Vienna</td>\n",
              "      <td>42594754-love-by-chance</td>\n",
              "      <td>6400090-the-last-song</td>\n",
              "    </tr>\n",
              "    <tr>\n",
              "      <th>4</th>\n",
              "      <td>6148028-catching-fire</td>\n",
              "      <td>34330645-the-naturalist</td>\n",
              "      <td>66414.Gitanjali</td>\n",
              "      <td>99297.Mr_Darcy_s_Diary</td>\n",
              "      <td>8726744-the-twilight-saga-complete-collection</td>\n",
              "      <td>42932.Whirlwind</td>\n",
              "      <td>5472.Animal_Farm_1984</td>\n",
              "      <td>17033173-a-pale-horse</td>\n",
              "      <td>7329.Unfinished_Tales_of_N_menor_and_Middle_Earth</td>\n",
              "      <td>21947191-filthy-beautiful-lies</td>\n",
              "      <td>...</td>\n",
              "      <td>3427390-sentence-of-marriage</td>\n",
              "      <td>23473570-kjv-study-bible</td>\n",
              "      <td>2054504.The_Outcast</td>\n",
              "      <td>17408922-sacrifice</td>\n",
              "      <td>359826.The_Followers</td>\n",
              "      <td>49353.The_Last_Coyote</td>\n",
              "      <td>41818.Robot_Dreams</td>\n",
              "      <td>93801.The_Confessor</td>\n",
              "      <td>114122.The_Circle_trilogy</td>\n",
              "      <td>799158.Fool_Me_Once</td>\n",
              "    </tr>\n",
              "  </tbody>\n",
              "</table>\n",
              "<p>5 rows × 20000 columns</p>\n",
              "</div>\n",
              "      <button class=\"colab-df-convert\" onclick=\"convertToInteractive('df-d343ee1c-4353-49e2-bf42-5ae8d0ca5a10')\"\n",
              "              title=\"Convert this dataframe to an interactive table.\"\n",
              "              style=\"display:none;\">\n",
              "        \n",
              "  <svg xmlns=\"http://www.w3.org/2000/svg\" height=\"24px\"viewBox=\"0 0 24 24\"\n",
              "       width=\"24px\">\n",
              "    <path d=\"M0 0h24v24H0V0z\" fill=\"none\"/>\n",
              "    <path d=\"M18.56 5.44l.94 2.06.94-2.06 2.06-.94-2.06-.94-.94-2.06-.94 2.06-2.06.94zm-11 1L8.5 8.5l.94-2.06 2.06-.94-2.06-.94L8.5 2.5l-.94 2.06-2.06.94zm10 10l.94 2.06.94-2.06 2.06-.94-2.06-.94-.94-2.06-.94 2.06-2.06.94z\"/><path d=\"M17.41 7.96l-1.37-1.37c-.4-.4-.92-.59-1.43-.59-.52 0-1.04.2-1.43.59L10.3 9.45l-7.72 7.72c-.78.78-.78 2.05 0 2.83L4 21.41c.39.39.9.59 1.41.59.51 0 1.02-.2 1.41-.59l7.78-7.78 2.81-2.81c.8-.78.8-2.07 0-2.86zM5.41 20L4 18.59l7.72-7.72 1.47 1.35L5.41 20z\"/>\n",
              "  </svg>\n",
              "      </button>\n",
              "      \n",
              "  <style>\n",
              "    .colab-df-container {\n",
              "      display:flex;\n",
              "      flex-wrap:wrap;\n",
              "      gap: 12px;\n",
              "    }\n",
              "\n",
              "    .colab-df-convert {\n",
              "      background-color: #E8F0FE;\n",
              "      border: none;\n",
              "      border-radius: 50%;\n",
              "      cursor: pointer;\n",
              "      display: none;\n",
              "      fill: #1967D2;\n",
              "      height: 32px;\n",
              "      padding: 0 0 0 0;\n",
              "      width: 32px;\n",
              "    }\n",
              "\n",
              "    .colab-df-convert:hover {\n",
              "      background-color: #E2EBFA;\n",
              "      box-shadow: 0px 1px 2px rgba(60, 64, 67, 0.3), 0px 1px 3px 1px rgba(60, 64, 67, 0.15);\n",
              "      fill: #174EA6;\n",
              "    }\n",
              "\n",
              "    [theme=dark] .colab-df-convert {\n",
              "      background-color: #3B4455;\n",
              "      fill: #D2E3FC;\n",
              "    }\n",
              "\n",
              "    [theme=dark] .colab-df-convert:hover {\n",
              "      background-color: #434B5C;\n",
              "      box-shadow: 0px 1px 3px 1px rgba(0, 0, 0, 0.15);\n",
              "      filter: drop-shadow(0px 1px 2px rgba(0, 0, 0, 0.3));\n",
              "      fill: #FFFFFF;\n",
              "    }\n",
              "  </style>\n",
              "\n",
              "      <script>\n",
              "        const buttonEl =\n",
              "          document.querySelector('#df-d343ee1c-4353-49e2-bf42-5ae8d0ca5a10 button.colab-df-convert');\n",
              "        buttonEl.style.display =\n",
              "          google.colab.kernel.accessAllowed ? 'block' : 'none';\n",
              "\n",
              "        async function convertToInteractive(key) {\n",
              "          const element = document.querySelector('#df-d343ee1c-4353-49e2-bf42-5ae8d0ca5a10');\n",
              "          const dataTable =\n",
              "            await google.colab.kernel.invokeFunction('convertToInteractive',\n",
              "                                                     [key], {});\n",
              "          if (!dataTable) return;\n",
              "\n",
              "          const docLinkHtml = 'Like what you see? Visit the ' +\n",
              "            '<a target=\"_blank\" href=https://colab.research.google.com/notebooks/data_table.ipynb>data table notebook</a>'\n",
              "            + ' to learn more about interactive tables.';\n",
              "          element.innerHTML = '';\n",
              "          dataTable['output_type'] = 'display_data';\n",
              "          await google.colab.output.renderOutput(dataTable, element);\n",
              "          const docLink = document.createElement('div');\n",
              "          docLink.innerHTML = docLinkHtml;\n",
              "          element.appendChild(docLink);\n",
              "        }\n",
              "      </script>\n",
              "    </div>\n",
              "  </div>\n",
              "  "
            ]
          },
          "metadata": {},
          "execution_count": 123
        }
      ]
    },
    {
      "cell_type": "markdown",
      "source": [
        "## Recommendation System"
      ],
      "metadata": {
        "id": "et50G6dYnoBH"
      }
    },
    {
      "cell_type": "code",
      "source": [
        "book_title = \"Harry Potter and the Order of the Phoenix\""
      ],
      "metadata": {
        "id": "8wA2Zn8hu5tC"
      },
      "execution_count": 124,
      "outputs": []
    },
    {
      "cell_type": "code",
      "source": [
        "def get_bookId_from_title(title):\n",
        "  return recommendations_df[recommendations_df.title == title].bookId\n",
        "\n",
        "def get_title_from_bookId(id):\n",
        "  print(\"Recommended: %s\" % (recommendations_df.loc[recommendations_df[\"bookId\"] == id[0]]['title'].values[0]))\n",
        "\n",
        "def get_description_from_bookId(id):\n",
        "  print(\"Description: %s\" % (df.loc[df[\"bookId\"] == id[0]]['description'].values[0]))\n",
        "\n",
        "def get_cosine_similarity(idCmp, idAsk):\n",
        "  print(\"(score: %s) \" % (cosine_sim_df.loc[cosine_sim_df.index == idAsk.values[0]][idCmp].values[0]))\n",
        "\n",
        "def recommend_me_some_books(book_title, n):\n",
        "  print(\"Recommending 5 books similar to: %s\" % (book_title))\n",
        "  print(\"---------------------------------------------------------\")\n",
        "  book_index = get_bookId_from_title(book_title)\n",
        "  top100 = cosine_sim_df_top_100[book_index][1:]\n",
        "  i = 0\n",
        "  for value in top100.values:\n",
        "    get_title_from_bookId(value)\n",
        "    get_description_from_bookId(value)\n",
        "    get_cosine_similarity(value, book_index)\n",
        "    print(\"\\n\\n\")\n",
        "    i += 1\n",
        "    if i == n:\n",
        "      break"
      ],
      "metadata": {
        "id": "aheJCYUgntqi"
      },
      "execution_count": 125,
      "outputs": []
    },
    {
      "cell_type": "code",
      "source": [
        "recommend_me_some_books(book_title, 5)"
      ],
      "metadata": {
        "colab": {
          "base_uri": "https://localhost:8080/"
        },
        "id": "vegW8E52oRQL",
        "outputId": "dadb6996-6621-43dd-d4ba-5f0812641111"
      },
      "execution_count": 126,
      "outputs": [
        {
          "output_type": "stream",
          "name": "stdout",
          "text": [
            "Recommending 5 books similar to: Harry Potter and the Order of the Phoenix\n",
            "---------------------------------------------------------\n",
            "Recommended: Harry Potter and the Prisoner of Azkaban\n",
            "Description: Harry Potter's third year at Hogwarts is full of new dangers. A convicted murderer, Sirius Black, has broken out of Azkaban prison, and it seems he's after Harry. Now Hogwarts is being patrolled by the dementors, the Azkaban guards who are hunting Sirius. But Harry can't imagine that Sirius or, for that matter, the evil Lord Voldemort could be more frightening than the dementors themselves, who have the terrible power to fill anyone they come across with aching loneliness and despair. Meanwhile, life continues as usual at Hogwarts. A top-of-the-line broom takes Harry's success at Quidditch, the sport of the Wizarding world, to new heights. A cute fourth-year student catches his eye. And he becomes close with the new Defense of the Dark Arts teacher, who was a childhood friend of his father. Yet despite the relative safety of life at Hogwarts and the best efforts of the dementors, the threat of Sirius Black grows ever closer. But if Harry has learned anything from his education in wizardry, it is that things are often not what they seem. Tragic revelations, heartwarming surprises, and high-stakes magical adventures await the boy wizard in this funny and poignant third installment of the beloved series.--scholastic.com\n",
            "(score: [0.07152525]) \n",
            "\n",
            "\n",
            "\n",
            "Recommended: Harry Potter Collection\n",
            "Description: Six years of magic, adventure, and mystery make this luxurious boxed set the perfect gift for Harry Potter fans of all ages. Follow Harry from his first days at Hogwarts School for Witchcraft and Wizardry, through his many adventures with Hermione and Ron, to his confrontations with rival Draco Malfoy and the dreaded Professor Snape. From the thrilling search for the Sorcerer's Stone to the Triwizard Tournament to the return of He-Who-Must-Not-Be-Named, each adventure is more riveting and exhilarating than its predecessor, and now all six books are available together for the first time in an elegant hardcover boxed set.\n",
            "(score: [0.06355344]) \n",
            "\n",
            "\n",
            "\n",
            "Recommended: The End\n",
            "Description: The last volume of the fabulously popular A Series of Unfortunate Events series, in which the history of the Baudelaire orphans is brought to its end.You are presumably looking at the back of this book, or the end of the end. The end of the end is the best place to begin the end, because if you read the end from the beginning of the beginning of the end to the end of the end of the end, you will arrive at the end of the end of your rope. This book is the last in A Series of Unfortunate Events, and even if you braved the previous twelve volumes, you probably can't stand such unpleasantries as a fearsome storm, a suspicious beverage, a herd of wild sheep, an enormous bird cage, and a truly haunting secret about the Baudelaire parents. It has been my solemn occupation to complete the history of the Baudelaire orphans, and at last I am finished. You likely have some other occupation, so if I were you I would drop this book at once, so the end does not finish you. With all due respect, Lemony Snicket\n",
            "(score: [0.03871131]) \n",
            "\n",
            "\n",
            "\n",
            "Recommended: The Naturalist\n",
            "Description: Professor Theo Cray is trained to see patterns where others see chaos. So when mutilated bodies found deep in the Montana woods leave the cops searching blindly for clues, Theo sees something they missed. Something unnatural. Something only he can stop.As a computational biologist, Theo is more familiar with digital code and microbes than the dark arts of forensic sleuthing. But a field trip to Montana suddenly lands him in the middle of an investigation into the bloody killing of one of his former students. As more details, and bodies, come to light, the local cops determine that the killer is either a grizzly gone rogue… or Theo himself. Racing to stay one step ahead of the police, Theo must use his scientific acumen to uncover the killer. Will he be able to become as cunning as the predator he hunts—before he becomes its prey?\n",
            "(score: [0.03700451]) \n",
            "\n",
            "\n",
            "\n",
            "Recommended: Harry Potter and the Chamber of Secrets\n",
            "Description: Ever since Harry Potter had come home for the summer, the Dursleys had been so mean and hideous that all Harry wanted was to get back to the Hogwarts School for Witchcraft and Wizardry. But just as he’s packing his bags, Harry receives a warning from a strange impish creature who says that if Harry returns to Hogwarts, disaster will strike.And strike it does. For in Harry’s second year at Hogwarts, fresh torments and horrors arise, including an outrageously stuck-up new professor and a spirit who haunts the girls’ bathroom. But then the real trouble begins – someone is turning Hogwarts students to stone. Could it be Draco Malfoy, a more poisonous rival than ever? Could it possible be Hagrid, whose mysterious past is finally told? Or could it be the one everyone at Hogwarts most suspects… Harry Potter himself!\n",
            "(score: [0.03451769]) \n",
            "\n",
            "\n",
            "\n"
          ]
        }
      ]
    },
    {
      "cell_type": "markdown",
      "source": [
        "#Classification"
      ],
      "metadata": {
        "id": "6QFdtcnis4Ev"
      }
    },
    {
      "cell_type": "code",
      "source": [
        "from sklearn import metrics\n",
        "from sklearn.metrics import classification_report\n",
        "from sklearn.metrics import accuracy_score\n",
        "from sklearn.metrics import confusion_matrix\n",
        "from sklearn import model_selection\n",
        "from sklearn.model_selection import KFold\n",
        "from sklearn.model_selection import cross_validate"
      ],
      "metadata": {
        "id": "xivOIE0OcLYS"
      },
      "execution_count": null,
      "outputs": []
    },
    {
      "cell_type": "code",
      "source": [
        "classification_df = df[[\"bookId\", \"description\",\"genreSingle\"]].copy()"
      ],
      "metadata": {
        "id": "YjGXoBSQsodG"
      },
      "execution_count": null,
      "outputs": []
    },
    {
      "cell_type": "code",
      "source": [
        "classification_df"
      ],
      "metadata": {
        "colab": {
          "base_uri": "https://localhost:8080/",
          "height": 423
        },
        "id": "YhqkXz7pDCfz",
        "outputId": "3cfd4348-37a6-4ac2-ab7e-58e7c4051259"
      },
      "execution_count": null,
      "outputs": [
        {
          "output_type": "execute_result",
          "data": {
            "text/plain": [
              "                                            bookId  \\\n",
              "0                         2767052-the-hunger-games   \n",
              "1      2.Harry_Potter_and_the_Order_of_the_Phoenix   \n",
              "2                       2657.To_Kill_a_Mockingbird   \n",
              "3                         1885.Pride_and_Prejudice   \n",
              "4                                   41865.Twilight   \n",
              "...                                            ...   \n",
              "52473                           11492014-fractured   \n",
              "52474                             11836711-anasazi   \n",
              "52475                              10815662-marked   \n",
              "52476                         11330278-wayward-son   \n",
              "52477                 10991547-daughter-of-helaman   \n",
              "\n",
              "                                             description  genreSingle  \n",
              "0      WINNING MEANS FAME AND FORTUNE.LOSING MEANS CE...  Young Adult  \n",
              "1      There is a door at the end of a silent corrido...      Fantasy  \n",
              "2      The unforgettable novel of a childhood in a sl...     Classics  \n",
              "3      Alternate cover edition of ISBN 9780679783268S...     Classics  \n",
              "4      About three things I was absolutely positive.\\...  Young Adult  \n",
              "...                                                  ...          ...  \n",
              "52473  The Fateful Trilogy continues with Fractured. ...     Vampires  \n",
              "52474  'Anasazi', sequel to 'The Thirteenth Chime' by...      Mystery  \n",
              "52475  --READERS FAVORITE AWARDS WINNER 2011--Sixteen...      Fantasy  \n",
              "52476  A POWERFUL TREMOR UNEARTHS AN ANCIENT SECRETBu...      Fiction  \n",
              "52477  Fighting in Helaman's army is Keturah's deepes...  Lds Fiction  \n",
              "\n",
              "[52478 rows x 3 columns]"
            ],
            "text/html": [
              "\n",
              "  <div id=\"df-9a4409a3-31d2-429d-9406-a1ec01100404\">\n",
              "    <div class=\"colab-df-container\">\n",
              "      <div>\n",
              "<style scoped>\n",
              "    .dataframe tbody tr th:only-of-type {\n",
              "        vertical-align: middle;\n",
              "    }\n",
              "\n",
              "    .dataframe tbody tr th {\n",
              "        vertical-align: top;\n",
              "    }\n",
              "\n",
              "    .dataframe thead th {\n",
              "        text-align: right;\n",
              "    }\n",
              "</style>\n",
              "<table border=\"1\" class=\"dataframe\">\n",
              "  <thead>\n",
              "    <tr style=\"text-align: right;\">\n",
              "      <th></th>\n",
              "      <th>bookId</th>\n",
              "      <th>description</th>\n",
              "      <th>genreSingle</th>\n",
              "    </tr>\n",
              "  </thead>\n",
              "  <tbody>\n",
              "    <tr>\n",
              "      <th>0</th>\n",
              "      <td>2767052-the-hunger-games</td>\n",
              "      <td>WINNING MEANS FAME AND FORTUNE.LOSING MEANS CE...</td>\n",
              "      <td>Young Adult</td>\n",
              "    </tr>\n",
              "    <tr>\n",
              "      <th>1</th>\n",
              "      <td>2.Harry_Potter_and_the_Order_of_the_Phoenix</td>\n",
              "      <td>There is a door at the end of a silent corrido...</td>\n",
              "      <td>Fantasy</td>\n",
              "    </tr>\n",
              "    <tr>\n",
              "      <th>2</th>\n",
              "      <td>2657.To_Kill_a_Mockingbird</td>\n",
              "      <td>The unforgettable novel of a childhood in a sl...</td>\n",
              "      <td>Classics</td>\n",
              "    </tr>\n",
              "    <tr>\n",
              "      <th>3</th>\n",
              "      <td>1885.Pride_and_Prejudice</td>\n",
              "      <td>Alternate cover edition of ISBN 9780679783268S...</td>\n",
              "      <td>Classics</td>\n",
              "    </tr>\n",
              "    <tr>\n",
              "      <th>4</th>\n",
              "      <td>41865.Twilight</td>\n",
              "      <td>About three things I was absolutely positive.\\...</td>\n",
              "      <td>Young Adult</td>\n",
              "    </tr>\n",
              "    <tr>\n",
              "      <th>...</th>\n",
              "      <td>...</td>\n",
              "      <td>...</td>\n",
              "      <td>...</td>\n",
              "    </tr>\n",
              "    <tr>\n",
              "      <th>52473</th>\n",
              "      <td>11492014-fractured</td>\n",
              "      <td>The Fateful Trilogy continues with Fractured. ...</td>\n",
              "      <td>Vampires</td>\n",
              "    </tr>\n",
              "    <tr>\n",
              "      <th>52474</th>\n",
              "      <td>11836711-anasazi</td>\n",
              "      <td>'Anasazi', sequel to 'The Thirteenth Chime' by...</td>\n",
              "      <td>Mystery</td>\n",
              "    </tr>\n",
              "    <tr>\n",
              "      <th>52475</th>\n",
              "      <td>10815662-marked</td>\n",
              "      <td>--READERS FAVORITE AWARDS WINNER 2011--Sixteen...</td>\n",
              "      <td>Fantasy</td>\n",
              "    </tr>\n",
              "    <tr>\n",
              "      <th>52476</th>\n",
              "      <td>11330278-wayward-son</td>\n",
              "      <td>A POWERFUL TREMOR UNEARTHS AN ANCIENT SECRETBu...</td>\n",
              "      <td>Fiction</td>\n",
              "    </tr>\n",
              "    <tr>\n",
              "      <th>52477</th>\n",
              "      <td>10991547-daughter-of-helaman</td>\n",
              "      <td>Fighting in Helaman's army is Keturah's deepes...</td>\n",
              "      <td>Lds Fiction</td>\n",
              "    </tr>\n",
              "  </tbody>\n",
              "</table>\n",
              "<p>52478 rows × 3 columns</p>\n",
              "</div>\n",
              "      <button class=\"colab-df-convert\" onclick=\"convertToInteractive('df-9a4409a3-31d2-429d-9406-a1ec01100404')\"\n",
              "              title=\"Convert this dataframe to an interactive table.\"\n",
              "              style=\"display:none;\">\n",
              "        \n",
              "  <svg xmlns=\"http://www.w3.org/2000/svg\" height=\"24px\"viewBox=\"0 0 24 24\"\n",
              "       width=\"24px\">\n",
              "    <path d=\"M0 0h24v24H0V0z\" fill=\"none\"/>\n",
              "    <path d=\"M18.56 5.44l.94 2.06.94-2.06 2.06-.94-2.06-.94-.94-2.06-.94 2.06-2.06.94zm-11 1L8.5 8.5l.94-2.06 2.06-.94-2.06-.94L8.5 2.5l-.94 2.06-2.06.94zm10 10l.94 2.06.94-2.06 2.06-.94-2.06-.94-.94-2.06-.94 2.06-2.06.94z\"/><path d=\"M17.41 7.96l-1.37-1.37c-.4-.4-.92-.59-1.43-.59-.52 0-1.04.2-1.43.59L10.3 9.45l-7.72 7.72c-.78.78-.78 2.05 0 2.83L4 21.41c.39.39.9.59 1.41.59.51 0 1.02-.2 1.41-.59l7.78-7.78 2.81-2.81c.8-.78.8-2.07 0-2.86zM5.41 20L4 18.59l7.72-7.72 1.47 1.35L5.41 20z\"/>\n",
              "  </svg>\n",
              "      </button>\n",
              "      \n",
              "  <style>\n",
              "    .colab-df-container {\n",
              "      display:flex;\n",
              "      flex-wrap:wrap;\n",
              "      gap: 12px;\n",
              "    }\n",
              "\n",
              "    .colab-df-convert {\n",
              "      background-color: #E8F0FE;\n",
              "      border: none;\n",
              "      border-radius: 50%;\n",
              "      cursor: pointer;\n",
              "      display: none;\n",
              "      fill: #1967D2;\n",
              "      height: 32px;\n",
              "      padding: 0 0 0 0;\n",
              "      width: 32px;\n",
              "    }\n",
              "\n",
              "    .colab-df-convert:hover {\n",
              "      background-color: #E2EBFA;\n",
              "      box-shadow: 0px 1px 2px rgba(60, 64, 67, 0.3), 0px 1px 3px 1px rgba(60, 64, 67, 0.15);\n",
              "      fill: #174EA6;\n",
              "    }\n",
              "\n",
              "    [theme=dark] .colab-df-convert {\n",
              "      background-color: #3B4455;\n",
              "      fill: #D2E3FC;\n",
              "    }\n",
              "\n",
              "    [theme=dark] .colab-df-convert:hover {\n",
              "      background-color: #434B5C;\n",
              "      box-shadow: 0px 1px 3px 1px rgba(0, 0, 0, 0.15);\n",
              "      filter: drop-shadow(0px 1px 2px rgba(0, 0, 0, 0.3));\n",
              "      fill: #FFFFFF;\n",
              "    }\n",
              "  </style>\n",
              "\n",
              "      <script>\n",
              "        const buttonEl =\n",
              "          document.querySelector('#df-9a4409a3-31d2-429d-9406-a1ec01100404 button.colab-df-convert');\n",
              "        buttonEl.style.display =\n",
              "          google.colab.kernel.accessAllowed ? 'block' : 'none';\n",
              "\n",
              "        async function convertToInteractive(key) {\n",
              "          const element = document.querySelector('#df-9a4409a3-31d2-429d-9406-a1ec01100404');\n",
              "          const dataTable =\n",
              "            await google.colab.kernel.invokeFunction('convertToInteractive',\n",
              "                                                     [key], {});\n",
              "          if (!dataTable) return;\n",
              "\n",
              "          const docLinkHtml = 'Like what you see? Visit the ' +\n",
              "            '<a target=\"_blank\" href=https://colab.research.google.com/notebooks/data_table.ipynb>data table notebook</a>'\n",
              "            + ' to learn more about interactive tables.';\n",
              "          element.innerHTML = '';\n",
              "          dataTable['output_type'] = 'display_data';\n",
              "          await google.colab.output.renderOutput(dataTable, element);\n",
              "          const docLink = document.createElement('div');\n",
              "          docLink.innerHTML = docLinkHtml;\n",
              "          element.appendChild(docLink);\n",
              "        }\n",
              "      </script>\n",
              "    </div>\n",
              "  </div>\n",
              "  "
            ]
          },
          "metadata": {},
          "execution_count": 14
        }
      ]
    },
    {
      "cell_type": "code",
      "source": [
        "classification_df.drop(classification_df.index[df['genreSingle'] == ''], inplace = True)"
      ],
      "metadata": {
        "id": "zhSdg88QBZvu"
      },
      "execution_count": null,
      "outputs": []
    },
    {
      "cell_type": "code",
      "source": [
        "# save books that are of one of the 10 most common genres\n",
        "top_10_genres = classification_df['genreSingle'].value_counts().nlargest(10).index"
      ],
      "metadata": {
        "id": "GpmWhZBVNZMo"
      },
      "execution_count": null,
      "outputs": []
    },
    {
      "cell_type": "code",
      "source": [
        "top_10_genres"
      ],
      "metadata": {
        "colab": {
          "base_uri": "https://localhost:8080/"
        },
        "id": "HwN8KxtgDIwH",
        "outputId": "4ee26f7b-3061-4896-d4f4-49af380c33dd"
      },
      "execution_count": null,
      "outputs": [
        {
          "output_type": "execute_result",
          "data": {
            "text/plain": [
              "Index(['Fiction', 'Fantasy', 'Romance', 'Young Adult', 'Nonfiction',\n",
              "       'Historical Fiction', 'Mystery', 'Science Fiction', 'Classics',\n",
              "       'History'],\n",
              "      dtype='object')"
            ]
          },
          "metadata": {},
          "execution_count": 12
        }
      ]
    },
    {
      "cell_type": "code",
      "source": [
        "classification_top_10_df = classification_df.loc[classification_df['genreSingle'].isin(top_10_genres.to_list())]"
      ],
      "metadata": {
        "id": "lXFXdqsCOV62"
      },
      "execution_count": null,
      "outputs": []
    },
    {
      "cell_type": "code",
      "source": [
        "classification_top_10_df = classification_top_10_df.dropna()"
      ],
      "metadata": {
        "id": "BSeVbjf1S9-Y"
      },
      "execution_count": null,
      "outputs": []
    },
    {
      "cell_type": "code",
      "source": [
        "classification_top_10_df['description']=classification_top_10_df['description'].apply(lowercase)\n",
        "classification_top_10_df['description']=classification_top_10_df['description'].apply(remove_special_characters)\n",
        "classification_top_10_df['description']=classification_top_10_df['description'].apply(remove_stopwords)"
      ],
      "metadata": {
        "id": "7wc8F8ZDRRgm"
      },
      "execution_count": null,
      "outputs": []
    },
    {
      "cell_type": "code",
      "source": [
        "classification_top_10_df"
      ],
      "metadata": {
        "colab": {
          "base_uri": "https://localhost:8080/",
          "height": 423
        },
        "id": "-xVdqfQkTLdk",
        "outputId": "4b129ce0-e506-4307-ba39-72847d7aced1"
      },
      "execution_count": null,
      "outputs": [
        {
          "output_type": "execute_result",
          "data": {
            "text/plain": [
              "                                            bookId  \\\n",
              "0                         2767052-the-hunger-games   \n",
              "1      2.Harry_Potter_and_the_Order_of_the_Phoenix   \n",
              "2                       2657.To_Kill_a_Mockingbird   \n",
              "3                         1885.Pride_and_Prejudice   \n",
              "4                                   41865.Twilight   \n",
              "...                                            ...   \n",
              "52471                           12464361-elemental   \n",
              "52472                        12395883-unbelievable   \n",
              "52474                             11836711-anasazi   \n",
              "52475                              10815662-marked   \n",
              "52476                         11330278-wayward-son   \n",
              "\n",
              "                                             description  genreSingle  \n",
              "0      winning means fame fortunelosing means certain...  Young Adult  \n",
              "1      door end silent corridor haunting harry pottte...      Fantasy  \n",
              "2      unforgettable novel childhood sleepy southern ...     Classics  \n",
              "3      alternate cover edition isbn 9780679783268sinc...     Classics  \n",
              "4      three things absolutely positive first edward ...  Young Adult  \n",
              "...                                                  ...          ...  \n",
              "52471  seventeenyearold kara nightingale suddenly str...      Fantasy  \n",
              "52472  lilah lopez dresers town take care unfinished ...      Romance  \n",
              "52474  anasazi sequel thirteenth chime emma michaels ...      Mystery  \n",
              "52475  readers favorite awards winner 2011sixteen yea...      Fantasy  \n",
              "52476  powerful tremor unearths ancient secretburied ...      Fiction  \n",
              "\n",
              "[28211 rows x 3 columns]"
            ],
            "text/html": [
              "\n",
              "  <div id=\"df-227b6d7f-fdcc-44b3-8ff7-5b596356cb92\">\n",
              "    <div class=\"colab-df-container\">\n",
              "      <div>\n",
              "<style scoped>\n",
              "    .dataframe tbody tr th:only-of-type {\n",
              "        vertical-align: middle;\n",
              "    }\n",
              "\n",
              "    .dataframe tbody tr th {\n",
              "        vertical-align: top;\n",
              "    }\n",
              "\n",
              "    .dataframe thead th {\n",
              "        text-align: right;\n",
              "    }\n",
              "</style>\n",
              "<table border=\"1\" class=\"dataframe\">\n",
              "  <thead>\n",
              "    <tr style=\"text-align: right;\">\n",
              "      <th></th>\n",
              "      <th>bookId</th>\n",
              "      <th>description</th>\n",
              "      <th>genreSingle</th>\n",
              "    </tr>\n",
              "  </thead>\n",
              "  <tbody>\n",
              "    <tr>\n",
              "      <th>0</th>\n",
              "      <td>2767052-the-hunger-games</td>\n",
              "      <td>winning means fame fortunelosing means certain...</td>\n",
              "      <td>Young Adult</td>\n",
              "    </tr>\n",
              "    <tr>\n",
              "      <th>1</th>\n",
              "      <td>2.Harry_Potter_and_the_Order_of_the_Phoenix</td>\n",
              "      <td>door end silent corridor haunting harry pottte...</td>\n",
              "      <td>Fantasy</td>\n",
              "    </tr>\n",
              "    <tr>\n",
              "      <th>2</th>\n",
              "      <td>2657.To_Kill_a_Mockingbird</td>\n",
              "      <td>unforgettable novel childhood sleepy southern ...</td>\n",
              "      <td>Classics</td>\n",
              "    </tr>\n",
              "    <tr>\n",
              "      <th>3</th>\n",
              "      <td>1885.Pride_and_Prejudice</td>\n",
              "      <td>alternate cover edition isbn 9780679783268sinc...</td>\n",
              "      <td>Classics</td>\n",
              "    </tr>\n",
              "    <tr>\n",
              "      <th>4</th>\n",
              "      <td>41865.Twilight</td>\n",
              "      <td>three things absolutely positive first edward ...</td>\n",
              "      <td>Young Adult</td>\n",
              "    </tr>\n",
              "    <tr>\n",
              "      <th>...</th>\n",
              "      <td>...</td>\n",
              "      <td>...</td>\n",
              "      <td>...</td>\n",
              "    </tr>\n",
              "    <tr>\n",
              "      <th>52471</th>\n",
              "      <td>12464361-elemental</td>\n",
              "      <td>seventeenyearold kara nightingale suddenly str...</td>\n",
              "      <td>Fantasy</td>\n",
              "    </tr>\n",
              "    <tr>\n",
              "      <th>52472</th>\n",
              "      <td>12395883-unbelievable</td>\n",
              "      <td>lilah lopez dresers town take care unfinished ...</td>\n",
              "      <td>Romance</td>\n",
              "    </tr>\n",
              "    <tr>\n",
              "      <th>52474</th>\n",
              "      <td>11836711-anasazi</td>\n",
              "      <td>anasazi sequel thirteenth chime emma michaels ...</td>\n",
              "      <td>Mystery</td>\n",
              "    </tr>\n",
              "    <tr>\n",
              "      <th>52475</th>\n",
              "      <td>10815662-marked</td>\n",
              "      <td>readers favorite awards winner 2011sixteen yea...</td>\n",
              "      <td>Fantasy</td>\n",
              "    </tr>\n",
              "    <tr>\n",
              "      <th>52476</th>\n",
              "      <td>11330278-wayward-son</td>\n",
              "      <td>powerful tremor unearths ancient secretburied ...</td>\n",
              "      <td>Fiction</td>\n",
              "    </tr>\n",
              "  </tbody>\n",
              "</table>\n",
              "<p>28211 rows × 3 columns</p>\n",
              "</div>\n",
              "      <button class=\"colab-df-convert\" onclick=\"convertToInteractive('df-227b6d7f-fdcc-44b3-8ff7-5b596356cb92')\"\n",
              "              title=\"Convert this dataframe to an interactive table.\"\n",
              "              style=\"display:none;\">\n",
              "        \n",
              "  <svg xmlns=\"http://www.w3.org/2000/svg\" height=\"24px\"viewBox=\"0 0 24 24\"\n",
              "       width=\"24px\">\n",
              "    <path d=\"M0 0h24v24H0V0z\" fill=\"none\"/>\n",
              "    <path d=\"M18.56 5.44l.94 2.06.94-2.06 2.06-.94-2.06-.94-.94-2.06-.94 2.06-2.06.94zm-11 1L8.5 8.5l.94-2.06 2.06-.94-2.06-.94L8.5 2.5l-.94 2.06-2.06.94zm10 10l.94 2.06.94-2.06 2.06-.94-2.06-.94-.94-2.06-.94 2.06-2.06.94z\"/><path d=\"M17.41 7.96l-1.37-1.37c-.4-.4-.92-.59-1.43-.59-.52 0-1.04.2-1.43.59L10.3 9.45l-7.72 7.72c-.78.78-.78 2.05 0 2.83L4 21.41c.39.39.9.59 1.41.59.51 0 1.02-.2 1.41-.59l7.78-7.78 2.81-2.81c.8-.78.8-2.07 0-2.86zM5.41 20L4 18.59l7.72-7.72 1.47 1.35L5.41 20z\"/>\n",
              "  </svg>\n",
              "      </button>\n",
              "      \n",
              "  <style>\n",
              "    .colab-df-container {\n",
              "      display:flex;\n",
              "      flex-wrap:wrap;\n",
              "      gap: 12px;\n",
              "    }\n",
              "\n",
              "    .colab-df-convert {\n",
              "      background-color: #E8F0FE;\n",
              "      border: none;\n",
              "      border-radius: 50%;\n",
              "      cursor: pointer;\n",
              "      display: none;\n",
              "      fill: #1967D2;\n",
              "      height: 32px;\n",
              "      padding: 0 0 0 0;\n",
              "      width: 32px;\n",
              "    }\n",
              "\n",
              "    .colab-df-convert:hover {\n",
              "      background-color: #E2EBFA;\n",
              "      box-shadow: 0px 1px 2px rgba(60, 64, 67, 0.3), 0px 1px 3px 1px rgba(60, 64, 67, 0.15);\n",
              "      fill: #174EA6;\n",
              "    }\n",
              "\n",
              "    [theme=dark] .colab-df-convert {\n",
              "      background-color: #3B4455;\n",
              "      fill: #D2E3FC;\n",
              "    }\n",
              "\n",
              "    [theme=dark] .colab-df-convert:hover {\n",
              "      background-color: #434B5C;\n",
              "      box-shadow: 0px 1px 3px 1px rgba(0, 0, 0, 0.15);\n",
              "      filter: drop-shadow(0px 1px 2px rgba(0, 0, 0, 0.3));\n",
              "      fill: #FFFFFF;\n",
              "    }\n",
              "  </style>\n",
              "\n",
              "      <script>\n",
              "        const buttonEl =\n",
              "          document.querySelector('#df-227b6d7f-fdcc-44b3-8ff7-5b596356cb92 button.colab-df-convert');\n",
              "        buttonEl.style.display =\n",
              "          google.colab.kernel.accessAllowed ? 'block' : 'none';\n",
              "\n",
              "        async function convertToInteractive(key) {\n",
              "          const element = document.querySelector('#df-227b6d7f-fdcc-44b3-8ff7-5b596356cb92');\n",
              "          const dataTable =\n",
              "            await google.colab.kernel.invokeFunction('convertToInteractive',\n",
              "                                                     [key], {});\n",
              "          if (!dataTable) return;\n",
              "\n",
              "          const docLinkHtml = 'Like what you see? Visit the ' +\n",
              "            '<a target=\"_blank\" href=https://colab.research.google.com/notebooks/data_table.ipynb>data table notebook</a>'\n",
              "            + ' to learn more about interactive tables.';\n",
              "          element.innerHTML = '';\n",
              "          dataTable['output_type'] = 'display_data';\n",
              "          await google.colab.output.renderOutput(dataTable, element);\n",
              "          const docLink = document.createElement('div');\n",
              "          docLink.innerHTML = docLinkHtml;\n",
              "          element.appendChild(docLink);\n",
              "        }\n",
              "      </script>\n",
              "    </div>\n",
              "  </div>\n",
              "  "
            ]
          },
          "metadata": {},
          "execution_count": 23
        }
      ]
    },
    {
      "cell_type": "code",
      "source": [
        "def vectorize(description):\n",
        "    words = description.split()\n",
        "    words_vecs = [w2v_model.wv[word] for word in words if word in w2v_model.wv]\n",
        "    if len(words_vecs) == 0:\n",
        "        return np.zeros(250)\n",
        "    words_vecs = np.array(words_vecs)\n",
        "    return words_vecs.mean(axis=0)"
      ],
      "metadata": {
        "id": "LWKQTKVJapRH"
      },
      "execution_count": null,
      "outputs": []
    },
    {
      "cell_type": "code",
      "source": [
        "def for_input(data):\n",
        "  ret = []\n",
        "  for review in data:\n",
        "    total = np.zeros(D_in,)\n",
        "    count = 0\n",
        "    for word in review.split():\n",
        "      if word in w2v_dict:\n",
        "        count+=1\n",
        "        total = np.add(total, np.array(w2v_dict[word], dtype=np.float32))\n",
        "    ret.append(words_vecs.mean(axis=0))\n",
        "  return ret"
      ],
      "metadata": {
        "id": "ALaPijUYfxrN"
      },
      "execution_count": null,
      "outputs": []
    },
    {
      "cell_type": "code",
      "source": [
        "import gensim\n",
        "from tqdm import tqdm\n",
        "from sklearn.preprocessing import StandardScaler\n",
        "\n",
        "descriptions = [sentence.split() for sentence in classification_top_10_df['description']]\n",
        "w2v_model = gensim.models.Word2Vec(descriptions,min_count=4,vector_size=250, workers=4)"
      ],
      "metadata": {
        "id": "PEFC5ye3bUTe"
      },
      "execution_count": null,
      "outputs": []
    },
    {
      "cell_type": "code",
      "source": [
        "X = classification_top_10_df.drop('genreSingle', axis=1).copy()\n",
        "Y = pd.DataFrame(columns=['genre'])\n",
        "Y['genre'] = classification_top_10_df['genreSingle']"
      ],
      "metadata": {
        "id": "7Z1KXdSMYBkZ"
      },
      "execution_count": null,
      "outputs": []
    },
    {
      "cell_type": "code",
      "source": [
        "test_df = None"
      ],
      "metadata": {
        "id": "ohvq4PQ-ZUfx"
      },
      "execution_count": null,
      "outputs": []
    },
    {
      "cell_type": "code",
      "source": [
        "from sklearn.model_selection import train_test_split\n",
        "#split data to train set and validation set\n",
        "if test_df is None:\n",
        "  X_train, X_val, Y_train, Y_val = train_test_split(X, Y, test_size=0.2)\n",
        "else:\n",
        "  X_train = X\n",
        "  Y_train = Y"
      ],
      "metadata": {
        "id": "VqP2gC79U-R9"
      },
      "execution_count": null,
      "outputs": []
    },
    {
      "cell_type": "code",
      "source": [
        "!wget http://nlp.stanford.edu/data/glove.6B.zip\n",
        "!unzip glove*.zip"
      ],
      "metadata": {
        "colab": {
          "base_uri": "https://localhost:8080/"
        },
        "id": "sXhSg9yzUqMb",
        "outputId": "9e34b371-c7ec-4d45-82e2-da6968435cd5"
      },
      "execution_count": null,
      "outputs": [
        {
          "output_type": "stream",
          "name": "stdout",
          "text": [
            "--2023-06-04 13:12:12--  http://nlp.stanford.edu/data/glove.6B.zip\n",
            "Resolving nlp.stanford.edu (nlp.stanford.edu)... 171.64.67.140\n",
            "Connecting to nlp.stanford.edu (nlp.stanford.edu)|171.64.67.140|:80... connected.\n",
            "HTTP request sent, awaiting response... 302 Found\n",
            "Location: https://nlp.stanford.edu/data/glove.6B.zip [following]\n",
            "--2023-06-04 13:12:13--  https://nlp.stanford.edu/data/glove.6B.zip\n",
            "Connecting to nlp.stanford.edu (nlp.stanford.edu)|171.64.67.140|:443... connected.\n",
            "HTTP request sent, awaiting response... 301 Moved Permanently\n",
            "Location: https://downloads.cs.stanford.edu/nlp/data/glove.6B.zip [following]\n",
            "--2023-06-04 13:12:13--  https://downloads.cs.stanford.edu/nlp/data/glove.6B.zip\n",
            "Resolving downloads.cs.stanford.edu (downloads.cs.stanford.edu)... 171.64.64.22\n",
            "Connecting to downloads.cs.stanford.edu (downloads.cs.stanford.edu)|171.64.64.22|:443... connected.\n",
            "HTTP request sent, awaiting response... 200 OK\n",
            "Length: 862182613 (822M) [application/zip]\n",
            "Saving to: ‘glove.6B.zip’\n",
            "\n",
            "glove.6B.zip        100%[===================>] 822.24M  5.02MB/s    in 2m 39s  \n",
            "\n",
            "2023-06-04 13:14:52 (5.18 MB/s) - ‘glove.6B.zip’ saved [862182613/862182613]\n",
            "\n",
            "Archive:  glove.6B.zip\n",
            "  inflating: glove.6B.50d.txt        \n",
            "  inflating: glove.6B.100d.txt       \n",
            "  inflating: glove.6B.200d.txt       \n",
            "  inflating: glove.6B.300d.txt       \n"
          ]
        }
      ]
    },
    {
      "cell_type": "code",
      "source": [
        "from gensim.scripts.glove2word2vec import glove2word2vec\n",
        "import pandas as pd\n",
        "\n",
        "glove_input_file = 'glove.6B.300d.txt'\n",
        "w2v_output_file = 'glv_with_w2v_format.txt'\n",
        "\n",
        "glove2word2vec(glove_input_file, w2v_output_file)\n",
        "D_in = 300"
      ],
      "metadata": {
        "colab": {
          "base_uri": "https://localhost:8080/"
        },
        "id": "737O1o5rUrXq",
        "outputId": "03a1bcf2-3d4c-4fd5-dd32-724a52ce9136"
      },
      "execution_count": null,
      "outputs": [
        {
          "output_type": "stream",
          "name": "stderr",
          "text": [
            "<ipython-input-27-3a95ca72c5f8>:7: DeprecationWarning: Call to deprecated `glove2word2vec` (KeyedVectors.load_word2vec_format(.., binary=False, no_header=True) loads GLoVE text vectors.).\n",
            "  glove2word2vec(glove_input_file, w2v_output_file)\n"
          ]
        }
      ]
    },
    {
      "cell_type": "code",
      "source": [
        "with open(w2v_output_file, 'r', encoding='cp437') as infile:\n",
        "    w2v_model = infile.read().splitlines()\n",
        "\n",
        "w2v_dict = {}\n",
        "\n",
        "for word_vector_pair in w2v_model:\n",
        "    word_vector_pair = word_vector_pair.split()\n",
        "    word = word_vector_pair[0]\n",
        "    vector = word_vector_pair[1:]\n",
        "    w2v_dict.update({word: vector})"
      ],
      "metadata": {
        "id": "MyjPoUiLUzFJ"
      },
      "execution_count": null,
      "outputs": []
    },
    {
      "cell_type": "code",
      "source": [
        "X_train = X_train['description'].apply(lambda x: vectorize(x))\n",
        "X_val = X_val['description'].apply(lambda x: vectorize(x))"
      ],
      "metadata": {
        "id": "1bPWVVXPZWqa"
      },
      "execution_count": null,
      "outputs": []
    },
    {
      "cell_type": "markdown",
      "source": [
        "## Naive Bayes Classifier"
      ],
      "metadata": {
        "id": "j_r0RQlr9GHN"
      }
    },
    {
      "cell_type": "code",
      "source": [
        "from sklearn.naive_bayes import GaussianNB\n",
        "from sklearn.feature_extraction.text import CountVectorizer\n",
        "from sklearn.naive_bayes import MultinomialNB"
      ],
      "metadata": {
        "id": "L2-T-FGnZ3ms"
      },
      "execution_count": null,
      "outputs": []
    },
    {
      "cell_type": "markdown",
      "source": [
        "#### Scaling data"
      ],
      "metadata": {
        "id": "VcgzkkMsi9EV"
      }
    },
    {
      "cell_type": "code",
      "source": [
        "from sklearn.preprocessing import MinMaxScaler #fixed import\n",
        "scaler = MinMaxScaler()\n",
        "X_train_scaled = scaler.fit_transform(list(X_train))\n",
        "X_val_scaled = scaler.fit_transform(list(X_val))"
      ],
      "metadata": {
        "id": "b-H_W9V1rHSr"
      },
      "execution_count": null,
      "outputs": []
    },
    {
      "cell_type": "code",
      "source": [
        "# see performance on validation \n",
        "model_naive = MultinomialNB()\n",
        "model_naive.fit(list(X_train_scaled), Y_train.values.ravel())"
      ],
      "metadata": {
        "colab": {
          "base_uri": "https://localhost:8080/",
          "height": 74
        },
        "id": "ZTok76Hj9iTi",
        "outputId": "1431651d-df95-4412-ab74-bdf999744b0d"
      },
      "execution_count": null,
      "outputs": [
        {
          "output_type": "execute_result",
          "data": {
            "text/plain": [
              "MultinomialNB()"
            ],
            "text/html": [
              "<style>#sk-container-id-1 {color: black;background-color: white;}#sk-container-id-1 pre{padding: 0;}#sk-container-id-1 div.sk-toggleable {background-color: white;}#sk-container-id-1 label.sk-toggleable__label {cursor: pointer;display: block;width: 100%;margin-bottom: 0;padding: 0.3em;box-sizing: border-box;text-align: center;}#sk-container-id-1 label.sk-toggleable__label-arrow:before {content: \"▸\";float: left;margin-right: 0.25em;color: #696969;}#sk-container-id-1 label.sk-toggleable__label-arrow:hover:before {color: black;}#sk-container-id-1 div.sk-estimator:hover label.sk-toggleable__label-arrow:before {color: black;}#sk-container-id-1 div.sk-toggleable__content {max-height: 0;max-width: 0;overflow: hidden;text-align: left;background-color: #f0f8ff;}#sk-container-id-1 div.sk-toggleable__content pre {margin: 0.2em;color: black;border-radius: 0.25em;background-color: #f0f8ff;}#sk-container-id-1 input.sk-toggleable__control:checked~div.sk-toggleable__content {max-height: 200px;max-width: 100%;overflow: auto;}#sk-container-id-1 input.sk-toggleable__control:checked~label.sk-toggleable__label-arrow:before {content: \"▾\";}#sk-container-id-1 div.sk-estimator input.sk-toggleable__control:checked~label.sk-toggleable__label {background-color: #d4ebff;}#sk-container-id-1 div.sk-label input.sk-toggleable__control:checked~label.sk-toggleable__label {background-color: #d4ebff;}#sk-container-id-1 input.sk-hidden--visually {border: 0;clip: rect(1px 1px 1px 1px);clip: rect(1px, 1px, 1px, 1px);height: 1px;margin: -1px;overflow: hidden;padding: 0;position: absolute;width: 1px;}#sk-container-id-1 div.sk-estimator {font-family: monospace;background-color: #f0f8ff;border: 1px dotted black;border-radius: 0.25em;box-sizing: border-box;margin-bottom: 0.5em;}#sk-container-id-1 div.sk-estimator:hover {background-color: #d4ebff;}#sk-container-id-1 div.sk-parallel-item::after {content: \"\";width: 100%;border-bottom: 1px solid gray;flex-grow: 1;}#sk-container-id-1 div.sk-label:hover label.sk-toggleable__label {background-color: #d4ebff;}#sk-container-id-1 div.sk-serial::before {content: \"\";position: absolute;border-left: 1px solid gray;box-sizing: border-box;top: 0;bottom: 0;left: 50%;z-index: 0;}#sk-container-id-1 div.sk-serial {display: flex;flex-direction: column;align-items: center;background-color: white;padding-right: 0.2em;padding-left: 0.2em;position: relative;}#sk-container-id-1 div.sk-item {position: relative;z-index: 1;}#sk-container-id-1 div.sk-parallel {display: flex;align-items: stretch;justify-content: center;background-color: white;position: relative;}#sk-container-id-1 div.sk-item::before, #sk-container-id-1 div.sk-parallel-item::before {content: \"\";position: absolute;border-left: 1px solid gray;box-sizing: border-box;top: 0;bottom: 0;left: 50%;z-index: -1;}#sk-container-id-1 div.sk-parallel-item {display: flex;flex-direction: column;z-index: 1;position: relative;background-color: white;}#sk-container-id-1 div.sk-parallel-item:first-child::after {align-self: flex-end;width: 50%;}#sk-container-id-1 div.sk-parallel-item:last-child::after {align-self: flex-start;width: 50%;}#sk-container-id-1 div.sk-parallel-item:only-child::after {width: 0;}#sk-container-id-1 div.sk-dashed-wrapped {border: 1px dashed gray;margin: 0 0.4em 0.5em 0.4em;box-sizing: border-box;padding-bottom: 0.4em;background-color: white;}#sk-container-id-1 div.sk-label label {font-family: monospace;font-weight: bold;display: inline-block;line-height: 1.2em;}#sk-container-id-1 div.sk-label-container {text-align: center;}#sk-container-id-1 div.sk-container {/* jupyter's `normalize.less` sets `[hidden] { display: none; }` but bootstrap.min.css set `[hidden] { display: none !important; }` so we also need the `!important` here to be able to override the default hidden behavior on the sphinx rendered scikit-learn.org. See: https://github.com/scikit-learn/scikit-learn/issues/21755 */display: inline-block !important;position: relative;}#sk-container-id-1 div.sk-text-repr-fallback {display: none;}</style><div id=\"sk-container-id-1\" class=\"sk-top-container\"><div class=\"sk-text-repr-fallback\"><pre>MultinomialNB()</pre><b>In a Jupyter environment, please rerun this cell to show the HTML representation or trust the notebook. <br />On GitHub, the HTML representation is unable to render, please try loading this page with nbviewer.org.</b></div><div class=\"sk-container\" hidden><div class=\"sk-item\"><div class=\"sk-estimator sk-toggleable\"><input class=\"sk-toggleable__control sk-hidden--visually\" id=\"sk-estimator-id-1\" type=\"checkbox\" checked><label for=\"sk-estimator-id-1\" class=\"sk-toggleable__label sk-toggleable__label-arrow\">MultinomialNB</label><div class=\"sk-toggleable__content\"><pre>MultinomialNB()</pre></div></div></div></div></div>"
            ]
          },
          "metadata": {},
          "execution_count": 28
        }
      ]
    },
    {
      "cell_type": "code",
      "source": [
        "y_train_pred = model_naive.predict(list(X_train_scaled))\n",
        "y_pred = model_naive.predict(list(X_val_scaled))\n",
        "  \n",
        "# comparing real values with predicted values  \n",
        "print(\"Train accuracy(in %):\", metrics.accuracy_score(Y_train, y_train_pred)*100)\n",
        "print(\"Validation accuracy(in %):\", metrics.accuracy_score(Y_val, y_pred)*100)"
      ],
      "metadata": {
        "colab": {
          "base_uri": "https://localhost:8080/"
        },
        "id": "q43tgIYIrL2l",
        "outputId": "0bfa941e-7acd-4c53-a84e-9238b9c6db3e"
      },
      "execution_count": null,
      "outputs": [
        {
          "output_type": "stream",
          "name": "stdout",
          "text": [
            "Train accuracy(in %): 35.50159517901454\n",
            "Validation accuracy(in %): 38.86230728335992\n"
          ]
        }
      ]
    },
    {
      "cell_type": "code",
      "source": [
        "Y_val.values.ravel()"
      ],
      "metadata": {
        "colab": {
          "base_uri": "https://localhost:8080/"
        },
        "id": "NQZMxki_4RzG",
        "outputId": "8e2f6fbc-f234-4c5d-f48d-b380e8222289"
      },
      "execution_count": null,
      "outputs": [
        {
          "output_type": "execute_result",
          "data": {
            "text/plain": [
              "array(['Fantasy', 'Nonfiction', 'History', ..., 'Romance', 'Nonfiction',\n",
              "       'Mystery'], dtype=object)"
            ]
          },
          "metadata": {},
          "execution_count": 30
        }
      ]
    },
    {
      "cell_type": "code",
      "source": [
        "from sklearn.metrics import make_scorer, accuracy_score, precision_score, recall_score, f1_score\n",
        "from sklearn.model_selection import cross_val_score"
      ],
      "metadata": {
        "id": "WSt7evJWZpGv"
      },
      "execution_count": null,
      "outputs": []
    },
    {
      "cell_type": "code",
      "source": [
        "scoring = {'accuracy' : make_scorer(accuracy_score), \n",
        "           'precision' : make_scorer(precision_score),\n",
        "           'recall' : make_scorer(recall_score), \n",
        "           'f1_score' : make_scorer(f1_score)}\n",
        "\n",
        "accuracy = accuracy_score(Y_val.values.ravel(),y_pred)\n",
        "precision = precision_score(Y_val.values.ravel(), y_pred, average='micro')\n",
        "recall = recall_score(Y_val.values.ravel(), y_pred, average='micro')\n",
        "f1 = f1_score(Y_val.values.ravel(), y_pred, average='micro')\n",
        "\n",
        "mnb = MultinomialNB()\n",
        "scores = cross_val_score(mnb, X_val_scaled, Y_val.values.ravel(), cv = 10, scoring='accuracy')\n",
        "print('Cross-validation scores:{}'.format(scores))"
      ],
      "metadata": {
        "colab": {
          "base_uri": "https://localhost:8080/"
        },
        "id": "QXSg_S1kughO",
        "outputId": "69976558-80b6-4294-df8b-99e6b802c3a0"
      },
      "execution_count": null,
      "outputs": [
        {
          "output_type": "stream",
          "name": "stdout",
          "text": [
            "Cross-validation scores:[0.37699115 0.36637168 0.38053097 0.36879433 0.37411348 0.39184397\n",
            " 0.35638298 0.37056738 0.39007092 0.35106383]\n"
          ]
        }
      ]
    },
    {
      "cell_type": "markdown",
      "source": [
        "## Support Vector Machines Classifier"
      ],
      "metadata": {
        "id": "1_2TE3tgeqX5"
      }
    },
    {
      "cell_type": "code",
      "source": [
        "from sklearn import svm\n",
        "svc_model = svm.SVC(kernel='rbf').fit(list(X_train), Y_train.values.ravel())\n",
        "svpred=svc_model.predict(list(X_val))"
      ],
      "metadata": {
        "id": "ETOEpav8gNp0"
      },
      "execution_count": null,
      "outputs": []
    },
    {
      "cell_type": "code",
      "source": [
        "# comparing real values with predicted values  \n",
        "print(\"Validation accuracy(in %):\", metrics.accuracy_score(Y_val, svpred)*100)"
      ],
      "metadata": {
        "colab": {
          "base_uri": "https://localhost:8080/"
        },
        "id": "bEoe0JeZjHxp",
        "outputId": "93a66e0a-a71d-42d2-e742-f878da7fc76e"
      },
      "execution_count": null,
      "outputs": [
        {
          "output_type": "stream",
          "name": "stdout",
          "text": [
            "Validation accuracy(in %): 57.66436292752082\n"
          ]
        }
      ]
    },
    {
      "cell_type": "code",
      "source": [
        "scoring = {'accuracy' : make_scorer(accuracy_score),\n",
        "           'precision' : make_scorer(precision_score),\n",
        "           'recall' : make_scorer(recall_score),\n",
        "           'f1_score' : make_scorer(f1_score)}\n",
        "\n",
        "accuracy = accuracy_score(Y_val.values.ravel(), svpred)\n",
        "precision = precision_score(Y_val.values.ravel(), svpred, average='micro')\n",
        "recall = recall_score(Y_val.values.ravel(), svpred, average='micro')\n",
        "f1 = f1_score(Y_val.values.ravel(), svpred, average='micro')\n",
        "\n",
        "scores = cross_val_score(svc_model, list(X_val), Y_val.values.ravel(), cv = 10, scoring='accuracy')\n",
        "print('Cross-validation scores:{}'.format(scores))"
      ],
      "metadata": {
        "id": "_-ptB1NwKcvu",
        "colab": {
          "base_uri": "https://localhost:8080/"
        },
        "outputId": "4a4f9fe5-75fd-4840-a4b5-8cf54c7110c6"
      },
      "execution_count": null,
      "outputs": [
        {
          "output_type": "stream",
          "name": "stdout",
          "text": [
            "Cross-validation scores:[0.55929204 0.52743363 0.56283186 0.5141844  0.55673759 0.54787234\n",
            " 0.53723404 0.57092199 0.5248227  0.5177305 ]\n"
          ]
        }
      ]
    },
    {
      "cell_type": "markdown",
      "source": [
        "### GridSearchCV"
      ],
      "metadata": {
        "id": "JUNBZeCJw6Zl"
      }
    },
    {
      "cell_type": "code",
      "source": [
        "from sklearn.model_selection import GridSearchCV\n",
        "from sklearn import svm\n",
        "\n",
        "parameters = {'kernel':('linear', 'rbf'), 'C':[1, 10], 'gamma':[1, 10]}\n",
        "clf = GridSearchCV(svc_model, parameters)\n",
        "clf.fit(list(X_train), Y_train.values.ravel())\n",
        "GridSearchCV(estimator=svm.SVC(),\n",
        "             param_grid={'C': [1, 10], 'kernel': ('linear', 'rbf')})\n",
        "sorted(clf.cv_results_.keys())"
      ],
      "metadata": {
        "id": "iPKi4zjJw6BY"
      },
      "execution_count": null,
      "outputs": []
    },
    {
      "cell_type": "markdown",
      "source": [
        "## Random Forests Classifier"
      ],
      "metadata": {
        "id": "Fad8vHuokNIG"
      }
    },
    {
      "cell_type": "code",
      "source": [
        "from sklearn.ensemble import RandomForestClassifier\n",
        "from sklearn.datasets import make_classification"
      ],
      "metadata": {
        "id": "sJxkGaYXha3Q"
      },
      "execution_count": null,
      "outputs": []
    },
    {
      "cell_type": "code",
      "source": [
        "clf = RandomForestClassifier(max_depth=150, n_estimators=150)\n",
        "clf.fit(list(X_train), Y_train.values.ravel())"
      ],
      "metadata": {
        "colab": {
          "base_uri": "https://localhost:8080/",
          "height": 74
        },
        "id": "CJXeq6h2kn71",
        "outputId": "87321fe7-f937-4543-a36e-a1ba0ed16924"
      },
      "execution_count": null,
      "outputs": [
        {
          "output_type": "execute_result",
          "data": {
            "text/plain": [
              "RandomForestClassifier(max_depth=150, n_estimators=150)"
            ],
            "text/html": [
              "<style>#sk-container-id-2 {color: black;background-color: white;}#sk-container-id-2 pre{padding: 0;}#sk-container-id-2 div.sk-toggleable {background-color: white;}#sk-container-id-2 label.sk-toggleable__label {cursor: pointer;display: block;width: 100%;margin-bottom: 0;padding: 0.3em;box-sizing: border-box;text-align: center;}#sk-container-id-2 label.sk-toggleable__label-arrow:before {content: \"▸\";float: left;margin-right: 0.25em;color: #696969;}#sk-container-id-2 label.sk-toggleable__label-arrow:hover:before {color: black;}#sk-container-id-2 div.sk-estimator:hover label.sk-toggleable__label-arrow:before {color: black;}#sk-container-id-2 div.sk-toggleable__content {max-height: 0;max-width: 0;overflow: hidden;text-align: left;background-color: #f0f8ff;}#sk-container-id-2 div.sk-toggleable__content pre {margin: 0.2em;color: black;border-radius: 0.25em;background-color: #f0f8ff;}#sk-container-id-2 input.sk-toggleable__control:checked~div.sk-toggleable__content {max-height: 200px;max-width: 100%;overflow: auto;}#sk-container-id-2 input.sk-toggleable__control:checked~label.sk-toggleable__label-arrow:before {content: \"▾\";}#sk-container-id-2 div.sk-estimator input.sk-toggleable__control:checked~label.sk-toggleable__label {background-color: #d4ebff;}#sk-container-id-2 div.sk-label input.sk-toggleable__control:checked~label.sk-toggleable__label {background-color: #d4ebff;}#sk-container-id-2 input.sk-hidden--visually {border: 0;clip: rect(1px 1px 1px 1px);clip: rect(1px, 1px, 1px, 1px);height: 1px;margin: -1px;overflow: hidden;padding: 0;position: absolute;width: 1px;}#sk-container-id-2 div.sk-estimator {font-family: monospace;background-color: #f0f8ff;border: 1px dotted black;border-radius: 0.25em;box-sizing: border-box;margin-bottom: 0.5em;}#sk-container-id-2 div.sk-estimator:hover {background-color: #d4ebff;}#sk-container-id-2 div.sk-parallel-item::after {content: \"\";width: 100%;border-bottom: 1px solid gray;flex-grow: 1;}#sk-container-id-2 div.sk-label:hover label.sk-toggleable__label {background-color: #d4ebff;}#sk-container-id-2 div.sk-serial::before {content: \"\";position: absolute;border-left: 1px solid gray;box-sizing: border-box;top: 0;bottom: 0;left: 50%;z-index: 0;}#sk-container-id-2 div.sk-serial {display: flex;flex-direction: column;align-items: center;background-color: white;padding-right: 0.2em;padding-left: 0.2em;position: relative;}#sk-container-id-2 div.sk-item {position: relative;z-index: 1;}#sk-container-id-2 div.sk-parallel {display: flex;align-items: stretch;justify-content: center;background-color: white;position: relative;}#sk-container-id-2 div.sk-item::before, #sk-container-id-2 div.sk-parallel-item::before {content: \"\";position: absolute;border-left: 1px solid gray;box-sizing: border-box;top: 0;bottom: 0;left: 50%;z-index: -1;}#sk-container-id-2 div.sk-parallel-item {display: flex;flex-direction: column;z-index: 1;position: relative;background-color: white;}#sk-container-id-2 div.sk-parallel-item:first-child::after {align-self: flex-end;width: 50%;}#sk-container-id-2 div.sk-parallel-item:last-child::after {align-self: flex-start;width: 50%;}#sk-container-id-2 div.sk-parallel-item:only-child::after {width: 0;}#sk-container-id-2 div.sk-dashed-wrapped {border: 1px dashed gray;margin: 0 0.4em 0.5em 0.4em;box-sizing: border-box;padding-bottom: 0.4em;background-color: white;}#sk-container-id-2 div.sk-label label {font-family: monospace;font-weight: bold;display: inline-block;line-height: 1.2em;}#sk-container-id-2 div.sk-label-container {text-align: center;}#sk-container-id-2 div.sk-container {/* jupyter's `normalize.less` sets `[hidden] { display: none; }` but bootstrap.min.css set `[hidden] { display: none !important; }` so we also need the `!important` here to be able to override the default hidden behavior on the sphinx rendered scikit-learn.org. See: https://github.com/scikit-learn/scikit-learn/issues/21755 */display: inline-block !important;position: relative;}#sk-container-id-2 div.sk-text-repr-fallback {display: none;}</style><div id=\"sk-container-id-2\" class=\"sk-top-container\"><div class=\"sk-text-repr-fallback\"><pre>RandomForestClassifier(max_depth=150, n_estimators=150)</pre><b>In a Jupyter environment, please rerun this cell to show the HTML representation or trust the notebook. <br />On GitHub, the HTML representation is unable to render, please try loading this page with nbviewer.org.</b></div><div class=\"sk-container\" hidden><div class=\"sk-item\"><div class=\"sk-estimator sk-toggleable\"><input class=\"sk-toggleable__control sk-hidden--visually\" id=\"sk-estimator-id-2\" type=\"checkbox\" checked><label for=\"sk-estimator-id-2\" class=\"sk-toggleable__label sk-toggleable__label-arrow\">RandomForestClassifier</label><div class=\"sk-toggleable__content\"><pre>RandomForestClassifier(max_depth=150, n_estimators=150)</pre></div></div></div></div></div>"
            ]
          },
          "metadata": {},
          "execution_count": 37
        }
      ]
    },
    {
      "cell_type": "code",
      "source": [
        "random_forest=clf.predict(list(X_val))"
      ],
      "metadata": {
        "id": "q1XKq6jUk6vn"
      },
      "execution_count": null,
      "outputs": []
    },
    {
      "cell_type": "code",
      "source": [
        "# comparing real values with predicted values  \n",
        "print(\"Validation accuracy(in %):\", metrics.accuracy_score(Y_val, random_forest)*100)"
      ],
      "metadata": {
        "colab": {
          "base_uri": "https://localhost:8080/"
        },
        "id": "AT5QJZBDlCLq",
        "outputId": "0e9f204b-599b-41d5-e314-55b5e0b2602d"
      },
      "execution_count": null,
      "outputs": [
        {
          "output_type": "stream",
          "name": "stdout",
          "text": [
            "Validation accuracy(in %): 55.60871876661351\n"
          ]
        }
      ]
    }
  ]
}